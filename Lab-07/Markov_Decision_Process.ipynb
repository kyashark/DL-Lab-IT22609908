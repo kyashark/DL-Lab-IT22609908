{
  "cells": [
    {
      "cell_type": "markdown",
      "metadata": {
        "id": "-LMwDZHlsAvn"
      },
      "source": [
        "# Markov Decision Process (MDP)"
      ]
    },
    {
      "cell_type": "markdown",
      "metadata": {
        "id": "rK2etKh-sAvo"
      },
      "source": [
        "### Ransalu Senanayake"
      ]
    },
    {
      "cell_type": "code",
      "execution_count": 33,
      "metadata": {
        "id": "Tlr-PNcssAvp"
      },
      "outputs": [],
      "source": [
        "import copy\n",
        "import timeit\n",
        "import numpy as np\n",
        "import matplotlib.pyplot as pl\n",
        "%matplotlib inline\n",
        "from ipywidgets import interactive\n",
        "import ipywidgets as widgets"
      ]
    },
    {
      "cell_type": "markdown",
      "metadata": {
        "id": "_f6VSXlQsAvs"
      },
      "source": [
        "Create the following grid world.\n",
        "\n",
        "**States:** A 10x10 grid\n",
        "\n",
        "**Actions:** Up, Down, Left, Right\n",
        "\n",
        "**Tranistion probabilities:**\n",
        "* 0.7 in the direction of action\n",
        "* 0.1 in the three other directions\n",
        "* The robot bounces back to the same state near edges\n",
        "\n",
        "**Rewards:**\n",
        "* (7,8) has a reward +10\n",
        "* (2,7) has a reward +3\n",
        "* (4,3) has a reward -5\n",
        "* (7,3) has a reward -10\n",
        "* No reward in other states\n",
        "\n",
        "This example is based on Decision Making Under Uncertainty by M.J. Kochenderfer."
      ]
    },
    {
      "cell_type": "code",
      "execution_count": 34,
      "metadata": {
        "id": "sbT7VOEQsAvt"
      },
      "outputs": [],
      "source": [
        "#Let's define MDP paras\n",
        "def createGrid10World():\n",
        "    def xy2s(y, x):\n",
        "        x = max(x, 0)\n",
        "        y = max(y, 0)\n",
        "        x = min(x, 9)\n",
        "        y = min(y, 9)\n",
        "        out = np.ravel_multi_index(np.array([x,y]), (10,10))\n",
        "        return out\n",
        "\n",
        "    def s2xy(s):\n",
        "        x, y = np.unravel_index(s, (10,10))\n",
        "        return y, x\n",
        "\n",
        "    def gridPlot(ax, im, title='', cmap='Blues'):\n",
        "        pl.imshow(im, interpolation='none', cmap=cmap, origin='lower')\n",
        "        pl.colorbar()\n",
        "        ax.set_xticks(np.arange(0, 10, 1));\n",
        "        ax.set_yticks(np.arange(0, 10, 1));\n",
        "        ax.set_xticklabels(np.arange(0, 10, 1));\n",
        "        ax.set_yticklabels(np.arange(0, 10, 1));\n",
        "        ax.set_xticks(np.arange(-.5, 10, 1), minor=True);\n",
        "        ax.set_yticks(np.arange(-.5, 10, 1), minor=True);\n",
        "        ax.grid(which='minor', color='w', linestyle='-', linewidth=1)\n",
        "        pl.title(title);\n",
        "        return\n",
        "\n",
        "    A = ['left', 'right', 'up', 'down']\n",
        "    S = np.arange(100)\n",
        "    T = np.zeros((len(S), len(A), len(S)))\n",
        "    R = np.zeros((len(S), len(A)))\n",
        "    for s in S:\n",
        "        x, y = s2xy(s)\n",
        "        if x == 2 and y == 7:\n",
        "            R[s, :] = 3\n",
        "        elif x == 7 and y == 8:\n",
        "            R[s, :] = 10\n",
        "        else:\n",
        "            if x == 7 and y == 3:\n",
        "                R[s, :] = -10\n",
        "            elif x == 4 and y == 3:\n",
        "                R[s, :] = -5\n",
        "            elif x == 0:\n",
        "                if y == 0 or y == 9:\n",
        "                    R[s, :] = -0.2\n",
        "                else:\n",
        "                    R[s, :] = -0.1\n",
        "                R[s, 0] = -0.7\n",
        "            elif x == 9:\n",
        "                if y == 0 or y == 9:\n",
        "                    R[s, :] = -0.2\n",
        "                else:\n",
        "                    R[s, :] = -0.1\n",
        "                R[s, 1] = -0.7\n",
        "            elif y == 0:\n",
        "                if x == 0 or x == 9:\n",
        "                    R[s, :] = -0.2\n",
        "                else:\n",
        "                    R[s, :] = -0.1\n",
        "                R[s, 3] = -0.7\n",
        "            elif y == 9:\n",
        "                if x == 0 or x == 9:\n",
        "                    R[s, :] = -0.2\n",
        "                else:\n",
        "                    R[s, :] = -0.1\n",
        "                R[s, 2] = -0.7\n",
        "\n",
        "            for a in A:\n",
        "                if a == 'left':\n",
        "                    T[s, 0, xy2s(x - 1, y)] += 0.7\n",
        "                    T[s, 0, xy2s(x + 1, y)] += 0.1\n",
        "                    T[s, 0, xy2s(x, y - 1)] += 0.1\n",
        "                    T[s, 0, xy2s(x, y + 1)] += 0.1\n",
        "                elif a == 'right':\n",
        "                    T[s, 1, xy2s(x + 1, y)] += 0.7\n",
        "                    T[s, 1, xy2s(x - 1, y)] += 0.1\n",
        "                    T[s, 1, xy2s(x, y - 1)] += 0.1\n",
        "                    T[s, 1, xy2s(x, y + 1)] += 0.1\n",
        "                elif a == 'up':\n",
        "                    T[s, 2, xy2s(x, y + 1)] += 0.7\n",
        "                    T[s, 2, xy2s(x, y - 1)] += 0.1\n",
        "                    T[s, 2, xy2s(x - 1, y)] += 0.1\n",
        "                    T[s, 2, xy2s(x + 1, y)] += 0.1\n",
        "                elif a == 'down':\n",
        "                    T[s, 3, xy2s(x, y - 1)] += 0.7\n",
        "                    T[s, 3, xy2s(x, y + 1)] += 0.1\n",
        "                    T[s, 3, xy2s(x - 1, y)] += 0.1\n",
        "                    T[s, 3, xy2s(x + 1, y)] += 0.1\n",
        "\n",
        "    for a, c_x, c_y in [(0,0,0), (0,0,9),(1,9,0),(1,9,9),(2,0,9),(2,9,9),(3,0,0),(3,9,0)]:\n",
        "        R[xy2s(c_x,c_y),a] = -0.8\n",
        "\n",
        "    discount = 0.9\n",
        "\n",
        "    nextStates = {}\n",
        "    for si in range(len(S)):\n",
        "        for ai in range(len(A)):\n",
        "            nextStates[(si,ai)] = np.where((T[si, ai, :] != 0) == True)[0]\n",
        "\n",
        "    return {'S':S, 'A':A, 'T':T, 'R':R, 'discount':discount, 'nextStates':nextStates, 'gridPlot':gridPlot, 'xy2s':xy2s, 's2xy':s2xy}"
      ]
    },
    {
      "cell_type": "code",
      "execution_count": 35,
      "metadata": {
        "id": "BylriiRqsAvv"
      },
      "outputs": [],
      "source": [
        "class MDP():\n",
        "    def __init__(self):\n",
        "        pass\n",
        "\n",
        "    def inbuilt_init(self, mdp_dict):\n",
        "        self.S = mdp_dict['S']\n",
        "        self.A = mdp_dict['A']\n",
        "        self.T = mdp_dict['T']\n",
        "        self.R = mdp_dict['R']\n",
        "        self.discount = mdp_dict['discount']\n",
        "        self.nextStates = mdp_dict['nextStates']\n",
        "        self.gridPlot = mdp_dict['gridPlot']\n",
        "        self.xy2s = mdp_dict['xy2s']\n",
        "        self.s2xy = mdp_dict['s2xy']"
      ]
    },
    {
      "cell_type": "code",
      "execution_count": 36,
      "metadata": {
        "colab": {
          "base_uri": "https://localhost:8080/",
          "height": 1000
        },
        "id": "QGcCuJpasAvy",
        "outputId": "c15c53fd-904b-470a-ab2b-ac760d376df5"
      },
      "outputs": [
        {
          "output_type": "display_data",
          "data": {
            "text/plain": [
              "<Figure size 300x300 with 2 Axes>"
            ],
            "image/png": "[encoded data removed]"
          },
          "metadata": {}
        },
        {
          "output_type": "display_data",
          "data": {
            "text/plain": [
              "<Figure size 1500x300 with 8 Axes>"
            ],
            "image/png": "[encoded data removed]"
          },
          "metadata": {}
        },
        {
          "output_type": "display_data",
          "data": {
            "text/plain": [
              "<Figure size 1500x300 with 8 Axes>"
            ],
            "image/png": "[encoded data removed]"
          },
          "metadata": {}
        },
        {
          "output_type": "display_data",
          "data": {
            "text/plain": [
              "<Figure size 1500x300 with 8 Axes>"
            ],
            "image/png": "[encoded data removed]"
          },
          "metadata": {}
        }
      ],
      "source": [
        "#Define the MDP\n",
        "mdp = MDP()\n",
        "mdp.inbuilt_init(mdp_dict=createGrid10World())\n",
        "\n",
        "#Plot states\n",
        "pl.figure(figsize=(3,3))\n",
        "mdp.gridPlot(ax=pl.gca(), im=mdp.S.reshape((10,10)), title='States', cmap='Greys')\n",
        "\n",
        "#Plot rewards\n",
        "pl.figure(figsize=(15,3))\n",
        "pl.suptitle('Rewards', fontsize=15)\n",
        "for a in range(4):\n",
        "    pl.subplot(1,4,a+1)\n",
        "    mdp.gridPlot(ax=pl.gca(), im=mdp.R[:,a].reshape((10,10)), title='a='+mdp.A[a], cmap='jet')\n",
        "pl.show()\n",
        "\n",
        "#Plot rewards\n",
        "pl.figure(figsize=(15,3))\n",
        "pl.suptitle('Rewards - clipped larger +ve values for visualizing the edges', fontsize=15)\n",
        "for a in range(4):\n",
        "    pl.subplot(1,4,a+1)\n",
        "    mdp.gridPlot(ax=pl.gca(), im=np.clip(mdp.R[:,a].reshape((10,10)), -1, -0.5), title='a='+mdp.A[a], cmap='jet')\n",
        "pl.show()\n",
        "\n",
        "#Plot rewards\n",
        "s0_x, s0_y = 3, 5\n",
        "s0 = mdp.xy2s(s0_x, s0_y)\n",
        "pl.figure(figsize=(15,3))\n",
        "pl.suptitle('Transition probabilities T(s1|s0=({},{}),a)'.format(s0_x, s0_y), fontsize=15)\n",
        "for a in range(4):\n",
        "    pl.subplot(1,4,a+1)\n",
        "    mdp.gridPlot(ax=pl.gca(), im=mdp.T[s0,a,:].reshape((10,10)), title='a='+mdp.A[a], cmap='Blues')\n",
        "pl.show()"
      ]
    },
    {
      "cell_type": "code",
      "execution_count": 37,
      "metadata": {
        "colab": {
          "base_uri": "https://localhost:8080/",
          "height": 609,
          "referenced_widgets": [
            "ac6576a5ea904402ba277ad523787573",
            "f81c8b27573f4f71b119500445e5a363",
            "5e8b2f3a268c47bca31037e3b283dc22",
            "6ec54ad7d891430d99ea1ad0f1c38bb8",
            "372f516142de486d8f0b7faa19c1beb7",
            "6ea2f2daa0f54c0d9261ddd0f293e0cc",
            "0f2d53093e8b4296b9b2ca9334c61ddb",
            "9896fa3cea1f4b3eb0f57e2f1c914e48",
            "9aaf2fbe5e0b4f62a1d11bb161674911",
            "d915c4a24e7847a8ba8ed076cba2acd4",
            "cabfc6f0a0bf4c0b986031a953508239",
            "428f37bb7d0549febeb6d399093055e8",
            "a9517e6407e3466f8f4851982d6ce063"
          ]
        },
        "id": "WSh9F6O2sAv1",
        "outputId": "11c9e6a9-51ef-4aa3-d8a2-b4bd94027e6b"
      },
      "outputs": [
        {
          "output_type": "display_data",
          "data": {
            "text/plain": [
              "interactive(children=(Text(value='4', description='s0_x'), Text(value='5', description='s0_y'), ToggleButtons(…"
            ],
            "application/vnd.jupyter.widget-view+json": {
              "version_major": 2,
              "version_minor": 0,
              "model_id": "ac6576a5ea904402ba277ad523787573"
            }
          },
          "metadata": {}
        }
      ],
      "source": [
        "#An interactive plot of transition probabilities\n",
        "def f(s0_x, s0_y, action):\n",
        "    a = mdp.A.index(action)\n",
        "    s0 = mdp.xy2s(int(s0_x), int(s0_y))\n",
        "    pl.figure(figsize=(6,6))\n",
        "    title = 'Transition probabilities T(s1|s0=({},{}),a={})'.format(int(s0_x),int(s0_y),action)\n",
        "    mdp.gridPlot(ax=pl.gca(), im=mdp.T[s0,a,:].reshape((10,10)), title=title, cmap='Blues')\n",
        "    pl.show()\n",
        "\n",
        "interactive_plot = interactive(f, s0_x='4', s0_y='5', action=widgets.ToggleButtons(options=['left', 'right', 'up', 'down']))\n",
        "interactive_plot"
      ]
    },
    {
      "cell_type": "markdown",
      "metadata": {
        "id": "CRtcTdgOsAv4"
      },
      "source": [
        "### 1. Policy evaluation\n",
        "\n",
        "Computing the utility, U.\n",
        "\n",
        "$U^\\pi_k(s) = R(s, \\pi(s)) + \\gamma \\sum_{s'} T(s' \\mid s, \\pi(s))U^\\pi_{k-1}(s')$"
      ]
    },
    {
      "cell_type": "code",
      "execution_count": 38,
      "metadata": {
        "colab": {
          "base_uri": "https://localhost:8080/",
          "height": 307
        },
        "id": "cT2yS--rsAv4",
        "outputId": "a2ff4b11-d29b-4614-8d52-e19aa9a9a920"
      },
      "outputs": [
        {
          "output_type": "display_data",
          "data": {
            "text/plain": [
              "<Figure size 1500x300 with 8 Axes>"
            ],
            "image/png": "[encoded data removed]"
          },
          "metadata": {}
        }
      ],
      "source": [
        "def iterativePolicyEvaluation(mdp, policy, numIterations=10):\n",
        "    U = np.zeros(len(mdp.S))\n",
        "    U_old = copy.copy(U)\n",
        "    for t in range(numIterations):\n",
        "        #--------- UPDATE CODE ---------#\n",
        "\n",
        "        # store updated utilities\n",
        "        U_new = np.zeros(len(mdp.S))\n",
        "\n",
        "        # go through each state\n",
        "        for s in mdp.S:\n",
        "            a = policy if isinstance(policy, int) else policy[s]\n",
        "\n",
        "            # Bellman expectation update\n",
        "            U_new[s] = np.sum(\n",
        "                mdp.T[s, a, :] * (mdp.R[s, a] + mdp.discount * U)\n",
        "            )\n",
        "\n",
        "        # update utilities\n",
        "        U = U_new\n",
        "        #-----------------------------#\n",
        "    return U\n",
        "\n",
        "numIterations = 5\n",
        "pl.figure(figsize=(15,3))\n",
        "pl.suptitle('Utilities', fontsize=15)\n",
        "for a in range(4):\n",
        "    pl.subplot(1,4,a+1)\n",
        "    U = iterativePolicyEvaluation(mdp=mdp, policy=a, numIterations=numIterations)\n",
        "    mdp.gridPlot(ax=pl.gca(), im=U.reshape(10,10), title='a='+mdp.A[a], cmap='jet')\n",
        "pl.show()\n",
        "#print(np.round(U.reshape(10,10),3))"
      ]
    },
    {
      "cell_type": "code",
      "execution_count": 39,
      "metadata": {
        "colab": {
          "base_uri": "https://localhost:8080/",
          "height": 346,
          "referenced_widgets": [
            "329b7802a395423a84fd99cbbaf2f88e",
            "77c6d195f8724ed3baa35330e7e37cac",
            "3ae7448e693d4d4ba8a76749df72f4eb",
            "92cbafedbde94106bf2798be23d4e1da",
            "b7315a03dcee4ac5b23a2a16241c4148",
            "c3a5e4a1b8864d46a7f80624ea40b8c6",
            "d828b5e82d604a3da0b6633d6285af13",
            "4a1007970f304edea34bcb055bd0c76a",
            "4a277f163770441790497f9571d12029",
            "d6d86eab896341b68be61eb790b81e6d"
          ]
        },
        "id": "XcMijKgbsAv7",
        "outputId": "d1574036-65f1-439f-d37d-a1dc8970909a"
      },
      "outputs": [
        {
          "output_type": "display_data",
          "data": {
            "text/plain": [
              "interactive(children=(ToggleButtons(description='action', options=('left', 'right', 'up', 'down'), value='left…"
            ],
            "application/vnd.jupyter.widget-view+json": {
              "version_major": 2,
              "version_minor": 0,
              "model_id": "329b7802a395423a84fd99cbbaf2f88e"
            }
          },
          "metadata": {}
        }
      ],
      "source": [
        "def f(action, numIter=1):\n",
        "    U = iterativePolicyEvaluation(mdp, policy=mdp.A.index(action), numIterations=numIter)\n",
        "    pl.figure(figsize=(3,3))\n",
        "    mdp.gridPlot(ax=pl.gca(), im=U.reshape(10,10), title='Utility', cmap='jet')\n",
        "    pl.show()\n",
        "\n",
        "interactive_plot = interactive(f, action=widgets.ToggleButtons(options=['left', 'right', 'up', 'down']),\n",
        "                               numIter=widgets.IntSlider(min=0, max=20, step=1, value=0))\n",
        "interactive_plot"
      ]
    },
    {
      "cell_type": "code",
      "execution_count": 40,
      "metadata": {
        "colab": {
          "base_uri": "https://localhost:8080/",
          "height": 274
        },
        "id": "-L8qvyKAsAv9",
        "outputId": "2b8a1539-b564-4572-f66e-b0ab49829f73"
      },
      "outputs": [
        {
          "output_type": "display_data",
          "data": {
            "text/plain": [
              "<Figure size 300x300 with 2 Axes>"
            ],
            "image/png": "[encoded data removed]"
          },
          "metadata": {}
        }
      ],
      "source": [
        "#Value iteration\n",
        "def valueIteration(mdp, numIterations=20):\n",
        "    U = np.zeros(len(mdp.S))\n",
        "    U_old = copy.copy(U)\n",
        "    for t in range(numIterations):\n",
        "\n",
        "        #--------- UPDATE CODE ---------#\n",
        "\n",
        "        U_new = np.zeros(len(mdp.S))\n",
        "        # for each state\n",
        "        for s in mdp.S:\n",
        "            # For each action, compute expected value\n",
        "            action_values = []\n",
        "            for a in range(len(mdp.A)):\n",
        "                val = np.sum(mdp.T[s, a, :] * (mdp.R[s, a] + mdp.discount * U))\n",
        "                action_values.append(val)\n",
        "            # Bellman optimality backup\n",
        "            U_new[s] = max(action_values)\n",
        "        U = U_new\n",
        "\n",
        "        #--------------------------------#\n",
        "\n",
        "    return U\n",
        "\n",
        "def policyExtration(mdp, U):\n",
        "    policy = np.zeros(len(mdp.S))\n",
        "\n",
        "    #--------- UPDATE CODE ---------#\n",
        "\n",
        "    for s in mdp.S:   # for each state\n",
        "\n",
        "        action_values = []\n",
        "        for a in range(len(mdp.A)):\n",
        "            val = np.sum(mdp.T[s, a, :] * (mdp.R[s, a] + mdp.discount * U))\n",
        "            action_values.append(val)\n",
        "        policy[s] = np.argmax(action_values)   # best action for state\n",
        "\n",
        "    #--------------------------------#\n",
        "\n",
        "    return policy\n",
        "\n",
        "U = valueIteration(mdp, numIterations=20)\n",
        "policy = policyExtration(mdp, U=U)\n",
        "pl.figure(figsize=(3,3))\n",
        "mdp.gridPlot(ax=pl.gca(), im=U.reshape(10,10), title='Utility', cmap='jet')\n",
        "for s in range(100):\n",
        "    x, y = mdp.s2xy(s)\n",
        "    if policy[s] == 0:\n",
        "        m='\\u02C2'\n",
        "    elif policy[s] == 1:\n",
        "        m='\\u02C3'\n",
        "    elif policy[s] == 2:\n",
        "        m='\\u02C4'\n",
        "    elif policy[s] == 3:\n",
        "        m='\\u02C5'\n",
        "    pl.text(x-0.5,y-1,m,color='k',size=20)\n",
        "pl.show()"
      ]
    },
    {
      "cell_type": "code",
      "execution_count": 41,
      "metadata": {
        "colab": {
          "base_uri": "https://localhost:8080/",
          "height": 331,
          "referenced_widgets": [
            "211b45da2078440eab32fbb69772783e",
            "c6b96ce1c66a4738a7053debe4452704",
            "cfae66208af54491b40e4bb6d24f3296",
            "93fab3bce9014251afd9e48388e0d40b",
            "763ea8eb58724772807837a03a920f50",
            "338fd0d90d1d486e9c823e9d39e36934",
            "492aa89511e046dbb4b0f0c57e1e1e22"
          ]
        },
        "id": "W7Hvi7YdsAv_",
        "outputId": "ed5c16d6-36e8-4586-9dd6-1528aaf50390"
      },
      "outputs": [
        {
          "output_type": "display_data",
          "data": {
            "text/plain": [
              "interactive(children=(IntSlider(value=0, description='numIter', max=20), Output()), _dom_classes=('widget-inte…"
            ],
            "application/vnd.jupyter.widget-view+json": {
              "version_major": 2,
              "version_minor": 0,
              "model_id": "211b45da2078440eab32fbb69772783e"
            }
          },
          "metadata": {}
        }
      ],
      "source": [
        "def f(numIter=1):\n",
        "    start_time = timeit.default_timer()\n",
        "    U = valueIteration(mdp, numIterations=numIter)\n",
        "    policy = policyExtration(mdp, U=U)\n",
        "    elapsed = timeit.default_timer() - start_time\n",
        "    print('time=', np.round(elapsed*1000,2))\n",
        "    pl.figure(figsize=(3,3))\n",
        "    mdp.gridPlot(ax=pl.gca(), im=U.reshape(10,10), title='Utility', cmap='jet')\n",
        "    for s in range(100):\n",
        "        x, y = mdp.s2xy(s)\n",
        "        if policy[s] == 0:\n",
        "            m='\\u02C2'\n",
        "        elif policy[s] == 1:\n",
        "            m='\\u02C3'\n",
        "        elif policy[s] == 2:\n",
        "            m='\\u02C4'\n",
        "        elif policy[s] == 3:\n",
        "            m='\\u02C5'\n",
        "        pl.text(x-0.5,y-1,m,color='k',size=20)\n",
        "    pl.show()\n",
        "\n",
        "interactive_plot = interactive(f, numIter=widgets.IntSlider(min=0, max=20, step=1, value=0))\n",
        "interactive_plot"
      ]
    },
    {
      "cell_type": "markdown",
      "metadata": {
        "id": "6il1i5CesAwB"
      },
      "source": [
        "### 2. Policy iteration\n",
        "\n",
        "Policy evaluation can be used in policy iteration:\n",
        "1. Given the current policy, compute U\n",
        "2. Using U, compute a new policy"
      ]
    },
    {
      "cell_type": "code",
      "execution_count": 42,
      "metadata": {
        "id": "5VzzQB0jsAwC"
      },
      "outputs": [],
      "source": [
        "def policyIteration(mdp, numIterations=1):\n",
        "    U_pi_k = np.zeros(len(mdp.S)) #initial values\n",
        "    pi_k = np.random.randint(low=0,high=4,size=len(mdp.S),dtype=int) #initial policy\n",
        "    pi_kp1 = copy.copy(pi_k)\n",
        "    for t in range(numIterations):\n",
        "\n",
        "        # ----------------------------\n",
        "        # Policy Evaluation\n",
        "        # ----------------------------\n",
        "        for _ in range(5):  # do a few sweeps for evaluation\n",
        "            U_new = np.zeros(len(mdp.S))\n",
        "            for s in mdp.S:\n",
        "                a = pi_k[s]  # action from current policy\n",
        "                U_new[s] = np.sum(\n",
        "                    mdp.T[s, a, :] * (mdp.R[s, a] + mdp.discount * U_pi_k)\n",
        "                )\n",
        "            U_pi_k = U_new\n",
        "\n",
        "        # ----------------------------\n",
        "        # Policy Improvement\n",
        "        # ----------------------------\n",
        "        for s in mdp.S:\n",
        "            action_values = []\n",
        "            for a in range(len(mdp.A)):\n",
        "                val = np.sum(\n",
        "                    mdp.T[s, a, :] * (mdp.R[s, a] + mdp.discount * U_pi_k)\n",
        "                )\n",
        "                action_values.append(val)\n",
        "            pi_kp1[s] = np.argmax(action_values)\n",
        "\n",
        "        # Update policy\n",
        "        pi_k = copy.copy(pi_kp1)\n",
        "\n",
        "\n",
        "    return U_pi_k, pi_kp1\n",
        "\n",
        "U_pi_k, pi_kp1 = policyIteration(mdp, numIterations=2)"
      ]
    },
    {
      "cell_type": "code",
      "execution_count": 43,
      "metadata": {
        "colab": {
          "base_uri": "https://localhost:8080/",
          "height": 323,
          "referenced_widgets": [
            "306e1fdfcc1c4c72806f940182a07288",
            "e6142f0cae4c4d3b8dc94f591ae23986",
            "3043a77eb243445aad58adeb55a362c1",
            "91cff5277b5143d09e742060f75357f0",
            "e59d4151a60e4d779510b609793c189e",
            "209ced0b525443c7a5848f78e1fd8d30",
            "4e48181058a546d5aa5c8bf33d1214fb"
          ]
        },
        "id": "lSHVZ0CwsAwE",
        "outputId": "5f398a23-71e0-4faa-d3ba-583633906fa6"
      },
      "outputs": [
        {
          "output_type": "display_data",
          "data": {
            "text/plain": [
              "interactive(children=(IntSlider(value=0, description='numIter', max=20), Output()), _dom_classes=('widget-inte…"
            ],
            "application/vnd.jupyter.widget-view+json": {
              "version_major": 2,
              "version_minor": 0,
              "model_id": "306e1fdfcc1c4c72806f940182a07288"
            }
          },
          "metadata": {}
        }
      ],
      "source": [
        "def f(numIter=1):\n",
        "    start_time = timeit.default_timer()\n",
        "    # code you want to evaluate\n",
        "    value, policy = policyIteration(mdp, numIterations=numIter)\n",
        "    elapsed = timeit.default_timer() - start_time\n",
        "    print('time=', np.round(elapsed*1000,2))\n",
        "    pl.figure(figsize=(3,3))\n",
        "    mdp.gridPlot(ax=pl.gca(), im=value.reshape(10,10), title='Utility', cmap='jet')\n",
        "    for s in range(100):\n",
        "        x, y = mdp.s2xy(s)\n",
        "        if policy[s] == 0:\n",
        "            m='\\u02C2'\n",
        "        elif policy[s] == 1:\n",
        "            m='\\u02C3'\n",
        "        elif policy[s] == 2:\n",
        "            m='\\u02C4'\n",
        "        elif policy[s] == 3:\n",
        "            m='\\u02C5'\n",
        "        pl.text(x-0.5,y-1,m,color='k',size=20)\n",
        "    pl.show()\n",
        "\n",
        "interactive_plot = interactive(f, numIter=widgets.IntSlider(min=0, max=20, step=1, value=0))\n",
        "interactive_plot"
      ]
    }
  ],
  "metadata": {
    "@webio": {
      "lastCommId": "21E8675012EB469B8DD225E5191E1594",
      "lastKernelId": "ec90fbfa-47cf-4656-a1ce-4ca4670e6701"
    },
    "colab": {
      "provenance": []
    },
    "kernelspec": {
      "display_name": "Python 3",
      "language": "python",
      "name": "python3"
    },
    "language_info": {
      "codemirror_mode": {
        "name": "ipython",
        "version": 3
      },
      "file_extension": ".py",
      "mimetype": "text/x-python",
      "name": "python",
      "nbconvert_exporter": "python",
      "pygments_lexer": "ipython3",
      "version": "3.8.8"
    },
    "widgets": {
      "application/vnd.jupyter.widget-state+json": {
        "ac6576a5ea904402ba277ad523787573": {
          "model_module": "@jupyter-widgets/controls",
          "model_name": "VBoxModel",
          "model_module_version": "1.5.0",
          "state": {
            "_dom_classes": [
              "widget-interact"
            ],
            "_model_module": "@jupyter-widgets/controls",
            "_model_module_version": "1.5.0",
            "_model_name": "VBoxModel",
            "_view_count": null,
            "_view_module": "@jupyter-widgets/controls",
            "_view_module_version": "1.5.0",
            "_view_name": "VBoxView",
            "box_style": "",
            "children": [
              "IPY_MODEL_f81c8b27573f4f71b119500445e5a363",
              "IPY_MODEL_5e8b2f3a268c47bca31037e3b283dc22",
              "IPY_MODEL_6ec54ad7d891430d99ea1ad0f1c38bb8",
              "IPY_MODEL_372f516142de486d8f0b7faa19c1beb7"
            ],
            "layout": "IPY_MODEL_6ea2f2daa0f54c0d9261ddd0f293e0cc"
          }
        },
        "f81c8b27573f4f71b119500445e5a363": {
          "model_module": "@jupyter-widgets/controls",
          "model_name": "TextModel",
          "model_module_version": "1.5.0",
          "state": {
            "_dom_classes": [],
            "_model_module": "@jupyter-widgets/controls",
            "_model_module_version": "1.5.0",
            "_model_name": "TextModel",
            "_view_count": null,
            "_view_module": "@jupyter-widgets/controls",
            "_view_module_version": "1.5.0",
            "_view_name": "TextView",
            "continuous_update": true,
            "description": "s0_x",
            "description_tooltip": null,
            "disabled": false,
            "layout": "IPY_MODEL_0f2d53093e8b4296b9b2ca9334c61ddb",
            "placeholder": "​",
            "style": "IPY_MODEL_9896fa3cea1f4b3eb0f57e2f1c914e48",
            "value": "4"
          }
        },
        "5e8b2f3a268c47bca31037e3b283dc22": {
          "model_module": "@jupyter-widgets/controls",
          "model_name": "TextModel",
          "model_module_version": "1.5.0",
          "state": {
            "_dom_classes": [],
            "_model_module": "@jupyter-widgets/controls",
            "_model_module_version": "1.5.0",
            "_model_name": "TextModel",
            "_view_count": null,
            "_view_module": "@jupyter-widgets/controls",
            "_view_module_version": "1.5.0",
            "_view_name": "TextView",
            "continuous_update": true,
            "description": "s0_y",
            "description_tooltip": null,
            "disabled": false,
            "layout": "IPY_MODEL_9aaf2fbe5e0b4f62a1d11bb161674911",
            "placeholder": "​",
            "style": "IPY_MODEL_d915c4a24e7847a8ba8ed076cba2acd4",
            "value": "5"
          }
        },
        "6ec54ad7d891430d99ea1ad0f1c38bb8": {
          "model_module": "@jupyter-widgets/controls",
          "model_name": "ToggleButtonsModel",
          "model_module_version": "1.5.0",
          "state": {
            "_dom_classes": [],
            "_model_module": "@jupyter-widgets/controls",
            "_model_module_version": "1.5.0",
            "_model_name": "ToggleButtonsModel",
            "_options_labels": [
              "left",
              "right",
              "up",
              "down"
            ],
            "_view_count": null,
            "_view_module": "@jupyter-widgets/controls",
            "_view_module_version": "1.5.0",
            "_view_name": "ToggleButtonsView",
            "button_style": "",
            "description": "action",
            "description_tooltip": null,
            "disabled": false,
            "icons": [],
            "index": 0,
            "layout": "IPY_MODEL_cabfc6f0a0bf4c0b986031a953508239",
            "style": "IPY_MODEL_428f37bb7d0549febeb6d399093055e8",
            "tooltips": []
          }
        },
        "372f516142de486d8f0b7faa19c1beb7": {
          "model_module": "@jupyter-widgets/output",
          "model_name": "OutputModel",
          "model_module_version": "1.0.0",
          "state": {
            "_dom_classes": [],
            "_model_module": "@jupyter-widgets/output",
            "_model_module_version": "1.0.0",
            "_model_name": "OutputModel",
            "_view_count": null,
            "_view_module": "@jupyter-widgets/output",
            "_view_module_version": "1.0.0",
            "_view_name": "OutputView",
            "layout": "IPY_MODEL_a9517e6407e3466f8f4851982d6ce063",
            "msg_id": "",
            "outputs": [
              {
                "output_type": "display_data",
                "data": {
                  "text/plain": "<Figure size 600x600 with 2 Axes>",
                  "image/png": "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\n"
                },
                "metadata": {}
              }
            ]
          }
        },
        "6ea2f2daa0f54c0d9261ddd0f293e0cc": {
          "model_module": "@jupyter-widgets/base",
          "model_name": "LayoutModel",
          "model_module_version": "1.2.0",
          "state": {
            "_model_module": "@jupyter-widgets/base",
            "_model_module_version": "1.2.0",
            "_model_name": "LayoutModel",
            "_view_count": null,
            "_view_module": "@jupyter-widgets/base",
            "_view_module_version": "1.2.0",
            "_view_name": "LayoutView",
            "align_content": null,
            "align_items": null,
            "align_self": null,
            "border": null,
            "bottom": null,
            "display": null,
            "flex": null,
            "flex_flow": null,
            "grid_area": null,
            "grid_auto_columns": null,
            "grid_auto_flow": null,
            "grid_auto_rows": null,
            "grid_column": null,
            "grid_gap": null,
            "grid_row": null,
            "grid_template_areas": null,
            "grid_template_columns": null,
            "grid_template_rows": null,
            "height": null,
            "justify_content": null,
            "justify_items": null,
            "left": null,
            "margin": null,
            "max_height": null,
            "max_width": null,
            "min_height": null,
            "min_width": null,
            "object_fit": null,
            "object_position": null,
            "order": null,
            "overflow": null,
            "overflow_x": null,
            "overflow_y": null,
            "padding": null,
            "right": null,
            "top": null,
            "visibility": null,
            "width": null
          }
        },
        "0f2d53093e8b4296b9b2ca9334c61ddb": {
          "model_module": "@jupyter-widgets/base",
          "model_name": "LayoutModel",
          "model_module_version": "1.2.0",
          "state": {
            "_model_module": "@jupyter-widgets/base",
            "_model_module_version": "1.2.0",
            "_model_name": "LayoutModel",
            "_view_count": null,
            "_view_module": "@jupyter-widgets/base",
            "_view_module_version": "1.2.0",
            "_view_name": "LayoutView",
            "align_content": null,
            "align_items": null,
            "align_self": null,
            "border": null,
            "bottom": null,
            "display": null,
            "flex": null,
            "flex_flow": null,
            "grid_area": null,
            "grid_auto_columns": null,
            "grid_auto_flow": null,
            "grid_auto_rows": null,
            "grid_column": null,
            "grid_gap": null,
            "grid_row": null,
            "grid_template_areas": null,
            "grid_template_columns": null,
            "grid_template_rows": null,
            "height": null,
            "justify_content": null,
            "justify_items": null,
            "left": null,
            "margin": null,
            "max_height": null,
            "max_width": null,
            "min_height": null,
            "min_width": null,
            "object_fit": null,
            "object_position": null,
            "order": null,
            "overflow": null,
            "overflow_x": null,
            "overflow_y": null,
            "padding": null,
            "right": null,
            "top": null,
            "visibility": null,
            "width": null
          }
        },
        "9896fa3cea1f4b3eb0f57e2f1c914e48": {
          "model_module": "@jupyter-widgets/controls",
          "model_name": "DescriptionStyleModel",
          "model_module_version": "1.5.0",
          "state": {
            "_model_module": "@jupyter-widgets/controls",
            "_model_module_version": "1.5.0",
            "_model_name": "DescriptionStyleModel",
            "_view_count": null,
            "_view_module": "@jupyter-widgets/base",
            "_view_module_version": "1.2.0",
            "_view_name": "StyleView",
            "description_width": ""
          }
        },
        "9aaf2fbe5e0b4f62a1d11bb161674911": {
          "model_module": "@jupyter-widgets/base",
          "model_name": "LayoutModel",
          "model_module_version": "1.2.0",
          "state": {
            "_model_module": "@jupyter-widgets/base",
            "_model_module_version": "1.2.0",
            "_model_name": "LayoutModel",
            "_view_count": null,
            "_view_module": "@jupyter-widgets/base",
            "_view_module_version": "1.2.0",
            "_view_name": "LayoutView",
            "align_content": null,
            "align_items": null,
            "align_self": null,
            "border": null,
            "bottom": null,
            "display": null,
            "flex": null,
            "flex_flow": null,
            "grid_area": null,
            "grid_auto_columns": null,
            "grid_auto_flow": null,
            "grid_auto_rows": null,
            "grid_column": null,
            "grid_gap": null,
            "grid_row": null,
            "grid_template_areas": null,
            "grid_template_columns": null,
            "grid_template_rows": null,
            "height": null,
            "justify_content": null,
            "justify_items": null,
            "left": null,
            "margin": null,
            "max_height": null,
            "max_width": null,
            "min_height": null,
            "min_width": null,
            "object_fit": null,
            "object_position": null,
            "order": null,
            "overflow": null,
            "overflow_x": null,
            "overflow_y": null,
            "padding": null,
            "right": null,
            "top": null,
            "visibility": null,
            "width": null
          }
        },
        "d915c4a24e7847a8ba8ed076cba2acd4": {
          "model_module": "@jupyter-widgets/controls",
          "model_name": "DescriptionStyleModel",
          "model_module_version": "1.5.0",
          "state": {
            "_model_module": "@jupyter-widgets/controls",
            "_model_module_version": "1.5.0",
            "_model_name": "DescriptionStyleModel",
            "_view_count": null,
            "_view_module": "@jupyter-widgets/base",
            "_view_module_version": "1.2.0",
            "_view_name": "StyleView",
            "description_width": ""
          }
        },
        "cabfc6f0a0bf4c0b986031a953508239": {
          "model_module": "@jupyter-widgets/base",
          "model_name": "LayoutModel",
          "model_module_version": "1.2.0",
          "state": {
            "_model_module": "@jupyter-widgets/base",
            "_model_module_version": "1.2.0",
            "_model_name": "LayoutModel",
            "_view_count": null,
            "_view_module": "@jupyter-widgets/base",
            "_view_module_version": "1.2.0",
            "_view_name": "LayoutView",
            "align_content": null,
            "align_items": null,
            "align_self": null,
            "border": null,
            "bottom": null,
            "display": null,
            "flex": null,
            "flex_flow": null,
            "grid_area": null,
            "grid_auto_columns": null,
            "grid_auto_flow": null,
            "grid_auto_rows": null,
            "grid_column": null,
            "grid_gap": null,
            "grid_row": null,
            "grid_template_areas": null,
            "grid_template_columns": null,
            "grid_template_rows": null,
            "height": null,
            "justify_content": null,
            "justify_items": null,
            "left": null,
            "margin": null,
            "max_height": null,
            "max_width": null,
            "min_height": null,
            "min_width": null,
            "object_fit": null,
            "object_position": null,
            "order": null,
            "overflow": null,
            "overflow_x": null,
            "overflow_y": null,
            "padding": null,
            "right": null,
            "top": null,
            "visibility": null,
            "width": null
          }
        },
        "428f37bb7d0549febeb6d399093055e8": {
          "model_module": "@jupyter-widgets/controls",
          "model_name": "ToggleButtonsStyleModel",
          "model_module_version": "1.5.0",
          "state": {
            "_model_module": "@jupyter-widgets/controls",
            "_model_module_version": "1.5.0",
            "_model_name": "ToggleButtonsStyleModel",
            "_view_count": null,
            "_view_module": "@jupyter-widgets/base",
            "_view_module_version": "1.2.0",
            "_view_name": "StyleView",
            "button_width": "",
            "description_width": "",
            "font_weight": ""
          }
        },
        "a9517e6407e3466f8f4851982d6ce063": {
          "model_module": "@jupyter-widgets/base",
          "model_name": "LayoutModel",
          "model_module_version": "1.2.0",
          "state": {
            "_model_module": "@jupyter-widgets/base",
            "_model_module_version": "1.2.0",
            "_model_name": "LayoutModel",
            "_view_count": null,
            "_view_module": "@jupyter-widgets/base",
            "_view_module_version": "1.2.0",
            "_view_name": "LayoutView",
            "align_content": null,
            "align_items": null,
            "align_self": null,
            "border": null,
            "bottom": null,
            "display": null,
            "flex": null,
            "flex_flow": null,
            "grid_area": null,
            "grid_auto_columns": null,
            "grid_auto_flow": null,
            "grid_auto_rows": null,
            "grid_column": null,
            "grid_gap": null,
            "grid_row": null,
            "grid_template_areas": null,
            "grid_template_columns": null,
            "grid_template_rows": null,
            "height": null,
            "justify_content": null,
            "justify_items": null,
            "left": null,
            "margin": null,
            "max_height": null,
            "max_width": null,
            "min_height": null,
            "min_width": null,
            "object_fit": null,
            "object_position": null,
            "order": null,
            "overflow": null,
            "overflow_x": null,
            "overflow_y": null,
            "padding": null,
            "right": null,
            "top": null,
            "visibility": null,
            "width": null
          }
        },
        "329b7802a395423a84fd99cbbaf2f88e": {
          "model_module": "@jupyter-widgets/controls",
          "model_name": "VBoxModel",
          "model_module_version": "1.5.0",
          "state": {
            "_dom_classes": [
              "widget-interact"
            ],
            "_model_module": "@jupyter-widgets/controls",
            "_model_module_version": "1.5.0",
            "_model_name": "VBoxModel",
            "_view_count": null,
            "_view_module": "@jupyter-widgets/controls",
            "_view_module_version": "1.5.0",
            "_view_name": "VBoxView",
            "box_style": "",
            "children": [
              "IPY_MODEL_77c6d195f8724ed3baa35330e7e37cac",
              "IPY_MODEL_3ae7448e693d4d4ba8a76749df72f4eb",
              "IPY_MODEL_92cbafedbde94106bf2798be23d4e1da"
            ],
            "layout": "IPY_MODEL_b7315a03dcee4ac5b23a2a16241c4148"
          }
        },
        "77c6d195f8724ed3baa35330e7e37cac": {
          "model_module": "@jupyter-widgets/controls",
          "model_name": "ToggleButtonsModel",
          "model_module_version": "1.5.0",
          "state": {
            "_dom_classes": [],
            "_model_module": "@jupyter-widgets/controls",
            "_model_module_version": "1.5.0",
            "_model_name": "ToggleButtonsModel",
            "_options_labels": [
              "left",
              "right",
              "up",
              "down"
            ],
            "_view_count": null,
            "_view_module": "@jupyter-widgets/controls",
            "_view_module_version": "1.5.0",
            "_view_name": "ToggleButtonsView",
            "button_style": "",
            "description": "action",
            "description_tooltip": null,
            "disabled": false,
            "icons": [],
            "index": 0,
            "layout": "IPY_MODEL_c3a5e4a1b8864d46a7f80624ea40b8c6",
            "style": "IPY_MODEL_d828b5e82d604a3da0b6633d6285af13",
            "tooltips": []
          }
        },
        "3ae7448e693d4d4ba8a76749df72f4eb": {
          "model_module": "@jupyter-widgets/controls",
          "model_name": "IntSliderModel",
          "model_module_version": "1.5.0",
          "state": {
            "_dom_classes": [],
            "_model_module": "@jupyter-widgets/controls",
            "_model_module_version": "1.5.0",
            "_model_name": "IntSliderModel",
            "_view_count": null,
            "_view_module": "@jupyter-widgets/controls",
            "_view_module_version": "1.5.0",
            "_view_name": "IntSliderView",
            "continuous_update": true,
            "description": "numIter",
            "description_tooltip": null,
            "disabled": false,
            "layout": "IPY_MODEL_4a1007970f304edea34bcb055bd0c76a",
            "max": 20,
            "min": 0,
            "orientation": "horizontal",
            "readout": true,
            "readout_format": "d",
            "step": 1,
            "style": "IPY_MODEL_4a277f163770441790497f9571d12029",
            "value": 0
          }
        },
        "92cbafedbde94106bf2798be23d4e1da": {
          "model_module": "@jupyter-widgets/output",
          "model_name": "OutputModel",
          "model_module_version": "1.0.0",
          "state": {
            "_dom_classes": [],
            "_model_module": "@jupyter-widgets/output",
            "_model_module_version": "1.0.0",
            "_model_name": "OutputModel",
            "_view_count": null,
            "_view_module": "@jupyter-widgets/output",
            "_view_module_version": "1.0.0",
            "_view_name": "OutputView",
            "layout": "IPY_MODEL_d6d86eab896341b68be61eb790b81e6d",
            "msg_id": "",
            "outputs": [
              {
                "output_type": "display_data",
                "data": {
                  "text/plain": "<Figure size 300x300 with 2 Axes>",
                  "image/png": "iVBORw0KGgoAAAANSUhEUgAAATQAAAEJCAYAAAAaZdvsAAAAOnRFWHRTb2Z0d2FyZQBNYXRwbG90bGliIHZlcnNpb24zLjEwLjAsIGh0dHBzOi8vbWF0cGxvdGxpYi5vcmcvlHJYcgAAAAlwSFlzAAAPYQAAD2EBqD+naQAAP+5JREFUeJzt3XlcVOX+B/APDAyLsggKA4oCaoALqBA0WNcFEszrleS68MMrIqm3wBS8bqXikqGViju5W0Kopd7SwhBFr4mKg1QY4ZILKYMaAgKxzZzfH8jkODPMObPgCN/363VeyZnnfOc7ozw955znfB8jhmEYEEJIG2D8vBMghBBdoQ6NENJmUIdGCGkzqEMjhLQZ1KERQtoM6tAIIW0GdWiEkDaDOjRCSJtBHRohpM2gDo0Q0mZQh0ZIO7B582a4urrC3NwcAQEBuHjxosq2V65cQXh4OFxdXWFkZITk5GSNYtbW1iI2Nhb29vbo2LEjwsPDUVpaqsuPpYA6NELauP379yMhIQGJiYnIy8uDj48PQkJCcP/+faXta2pq4O7ujlWrVkEgEGgcMz4+Ht988w0OHjyI06dP4969exg7dqxePqMMQwhp0/z9/ZnY2FjZzxKJhHF2dmaSkpLUHtujRw9m3bp1nGOWl5czpqamzMGDB2VtCgsLGQBMTk6OFp+mZTRCI6QNq6+vh0gkQnBwsGyfsbExgoODkZOTo7eYIpEIDQ0Ncm08PT3RvXt3jd+XDRO9RSaEsFZbW4v6+nrW7RmGgZGRkdw+MzMzmJmZye17+PAhJBIJHB0d5fY7Ojri119/1ShXNjHFYjH4fD5sbW0V2ojFYo3elw0aobVBU6ZMgaurq9w+IyMjLF26VPbznj17YGRkhFu3brVqbkRRbW0tulhYwMbGhvXWrVs3hX1JSUnP+6M8dzRCMyBLly7FsmXL8ODBA3Tu3Fnh9X79+qFz587Izs7GvXv3sG3bNoSFhWHAgAE6ef8tW7bA0tISU6ZM0Uk8wk59fT2qACwEYM6ifS2ApKoqFBcXw9raWrb/2dEZAHTu3Bk8Hk/h7mJpaanKC/7qsIkpEAhQX1+P8vJyuVGaNu/LBo3QXlD37t3DsmXLkJ+fr/Da9u3bUVRU1OLx//rXv/Dnn3+iR48esn1btmzBnj17dJwpYasjhw0ArK2t5TZlHRqfz4evry+ysrJk+6RSKbKysiAUCjXKk01MX19fmJqayrUpKirCnTt3NH5fNmiE1gaZmpqqbcPj8cDj8VohG8KWCQD1f3NAI8e4CQkJiIqKgp+fH/z9/ZGcnIzq6mpER0cDACZPnoyuXbvKTlnr6+vxyy+/yP589+5d5Ofno2PHjujVqxermDY2NoiJiUFCQgLs7OxgbW2NmTNnQigU4pVXXuH4CTjQ2/1TwlliYiIDgHnw4IHS1/v27csMGTKEOXXqFANAYdu9ezfDMAwTFRXF9OjRQ+5YAExiYqLs5927dzMAmJs3bzIM03R7/tl4Q4YMYW7cuMEAYNauXauQzw8//MAAYNLS0nTx8dutiooKBgCzBmC2sNjWPPn7qaioYP0eGzduZLp3787w+XzG39+fOX/+vOy1IUOGMFFRUbKfb968qfTf15AhQ1jHZBiG+fPPP5l33nmH6dSpE2Npacm8+eabTElJiUbfEVs0QnsBeXl5Yfny5ViyZAmmT5+O1157DQAQGBiocczk5GTMnDkTHTt2xPvvvw+g6Y6Uu7s7Bg8ejNTUVMTHx8sdk5qaCisrK4wZM0bzD0NkTKGfERoAxMXFIS4uTulr2dnZcj+7urqCYbF2UksxAcDc3BybN2/G5s2bOeWqDbqG9gJydHTEyJEjAQBCoRCTJk3CpEmT4O7urnHMsLAw2NjYwNHRURbv9ddfB9B0SiISieRu8zc0NODAgQMYO3YsLC0ttftABEDTKSfbjShHHRpRa/z48TA3N0dqaqps3/Hjx/Hw4UNMmjTpOWbWtjRfQ1O3UYemGnVoL5hnJ1O2BltbW4wePRppaWmyfampqejatSuGDx/e6vm0VTRC0x51aAbE3LxpFtKff/6p9PWamhpZm9Y2efJk/Pbbbzh37hweP36Mr7/+GhERETA2pn9CumLJYSPK0b9GA9I8J0zZHLKamhoUFxfL2uhjpNZSzNDQUHTp0gWpqak4fPgwampq8K9//UvnObRnNELTHnVoBiQoKAh8Ph9bt26FVCqVe23btm1obGyU3Qzo0KEDAKC8vFxn79+hQweV8UxMTBAREYEDBw5gz5496N+/P7y9vXX23oSuoekCfTcGxMHBAUuWLMGiRYvwt7/9Df/4xz9gaWmJc+fO4YsvvsCIESMwevRoAEDPnj1ha2uLlJQUWFlZoUOHDggICICbm5vG7+/r64utW7figw8+QK9eveDg4CB3jWzy5MnYsGEDTp06hdWrV2v9eYk8tqMv+qVVjb4bA/P+++/D1dUVmzZtwvLly9HY2Ag3NzcsW7YM8+fPl12zMjU1xd69e7Fw4UL8+9//RmNjI3bv3q1Vh7ZkyRLcvn0bH330ER4/fowhQ4bIdWi+vr7o27cvCgsLERkZqfVnJfLYzkNj06a9MmLYzKAj5ImBAwfCzs5O7hk9op3KykrY2NggC0AHFu2rAQQBqKiokHs4ndAIjXBw6dIl5Ofn0wPsesL2WU76pVWNvhuiVkFBAUQiEdasWQMnJydMmDDheafUJtE1NO3RXU6i1pdffono6Gg0NDTgiy++eG5z4do6Nnc42V5na6/oGhohz1nzNbSfAFixaP8YgDfoGpoyNHolxEDQXU7tUYdGiIGga2jaa/XvRiqV4t69e7CysnouD1oT0hoYhsHjx4/h7OzM+nlXEx5gyuJXwoQBINEuv7aq1Tq05kJv9fX1uHHjRmu9LSHPVXFxMbp168aqrYkJYEIdmlZa/aZARUUFbG1tsaV4M2qsqzWOY4/OGItwHMJX+AMPtcpJV7EMMSddxqKc2LOs7IB3XGJRXl4OGxubFts23xQQWwLWLDq0SgYQ1NBNAWVa/ZSz+TSzxroa5daPNI5jAQtYwxo1qEY5NI+jy1iGmJMuY1FO3HG5rMJphMbR5s2b8fHHH0MsFsPHxwcbN26Ev7+/yvYHDx7E4sWLcevWLfTu3RurV6/GG2+8IXtd1ef66KOPMHfuXABNpbxv374t93pSUhIWLFjA/QOwRPPQCDEQpjzA1ITFxnGxrv379yMhIQGJiYnIy8uDj48PQkJCcP/+faXtz507h4iICMTExODy5csICwtDWFgYCgoKZG1KSkrktl27dsHIyAjh4eFysZYvXy7XbubMmZy/Fy6oQyPEUPA4bBysXbsW06ZNQ3R0NPr06YOUlBRYWlpi165dStuvX78eoaGhmDt3Lry8vLBixQoMGjQImzZtkrURCARy23//+18MGzZMYV0LKysruXbNZa/0hXOH9vjxY8yePRs9evSAhYUFAgMDkZubq4/cCGlfzDlsaLr29vRWV1enELK+vh4ikQjBwcGyfcbGxggODkZOTo7SNHJycuTaA0BISIjK9qWlpTh27BhiYmIUXlu1ahXs7e0xcOBAfPzxx2hs1GTNKvY4d2hvvfUWMjMz8fnnn+Pnn3/GiBEjEBwcjLt37+ojP0LaD44la11cXGBjYyPbmhcKftrDhw8hkUjg6Ogot9/R0RFisVhpGmKxmFP7vXv3wsrKCmPHjpXb/+677yI9PR2nTp3CjBkz8OGHH2LevHktfwda4nRT4M8//8RXX32F//73v/jb3/4GAFi6dCm++eYbWWFAQoiGjMHpdLK4uFjuLqeZmZnuc2Jh165diIyMVHjGNyEhQfZnb29v8Pl8zJgxA0lJSXrLlVOH1tjYCIlEopC4hYUFzp49q/SYuro6uaFwZWWlBmkS0g6YgF2H9uQGo7W1tdppG507dwaPx0Npaanc/tLSUggEAqXHCAQC1u3/97//oaioCPv371ebdkBAABobG3Hr1i14eHioba8JTqecVlZWEAqFWLFiBe7duweJRIJ9+/YhJycHJSUlSo9JSkqSGxa7uLjoJHFC2hw9rJLC5/Ph6+srV5BTKpUiKysLQqFQ6TFCoVChgGdmZqbS9jt37oSvry98fHzU5pKfnw9jY2M4ODiw/wAccb6G9vnnn4NhGHTt2hVmZmbYsGFDi8uZLVy4EBUVFbKtuLhY66QJaZP0dJczISEB27dvx969e1FYWIi3334b1dXViI6OBtC0VsTChQtl7WfNmoWMjAysWbMGv/76K5YuXYpLly4hLi5OLm5lZSUOHjyIt956S+E9c3JykJycjB9//BG//fYbUlNTER8fj0mTJqFTp07cPgAHnCfW9uzZE6dPn0Z1dTUqKytlBf+evV3bzMzM7Lmd2xPyQuF4ysnWhAkT8ODBAyxZsgRisRgDBgxARkaG7ML/nTt35AYkgYGBSEtLw6JFi/Dee++hd+/eOHLkCPr16ycXNz09HQzDICIiQuE9zczMkJ6ejqVLl6Kurg5ubm6Ij4+Xu66mDxo/KdChQwd06NABjx49wvHjx/HRRx/pMi9C2h8e9PbsTlxcnMIIq1l2drbCvnHjxmHcuHEtxpw+fTqmT5+u9LVBgwbh/PnznPPUFuev7/jx42AYBh4eHrh+/Trmzp0LT09P2fCVEKIhtqeTVJJVJc4dWkVFBRYuXIjff/8ddnZ2CA8Px8qVK2FqSmXnCNGKOdj9Rup3buoLjXOHNn78eIwfP14fuRDSvnG8g0kU0ddHiKFgO7FWqu9EXlzUoRFiKNiO0OgamkrPrUOzR2dYwELj4zuji9x/taGrWIaYky5jUU7sWbJaA/0Z1KFprdUq1jaX4JZIJLh69SpV2yRtWnMVWjb/zmVtwwBrFvfWKhsAmyNUsVaZVhuhxcbGIjY2VvaXdwhfoQaal+DujC4Yjwk4gP14iAda5aarWIaYky5jUU7s0Qjt+Xhup5x/4KFOyhw/xAOU4J4OMtJdLEPMSZexKCf1bKHB4z1sJ9bSTQGV6KYAIYaC7cRajs9ytiecHk6XSCRYvHgx3NzcYGFhgZ49e2LFihVo5YWjCGmb9FBto73h9NWsXr0aW7duxd69e9G3b19cunQJ0dHRsLGxwbvvvquvHAlpH8wB8Fm0o5VAVOLUoZ07dw5jxozBqFGjADQtU/XFF1/g4sWLekmOkHaF7cRa6tBU4vTVBAYGIisrC1evXgUA/Pjjjzh79ixGjhypl+QIaVfolFNrnL6aBQsWoLKyEp6enuDxeJBIJFi5ciUiIyNVHkMluAlhiW1nJdF3Ii8uTiO0AwcOIDU1FWlpacjLy8PevXvxySefYO/evSqPoRLchLCkp4q17QmnEdrcuXOxYMECTJw4EQDQv39/3L59G0lJSYiKilJ6zMKFC+WqVFZWVlKnRogyNELTGqcOraamRmHtAB6PB6lU9Uw/KsFNCEtsJ9ZSPTSVOJ1yjh49GitXrsSxY8dw69YtHD58GGvXrsWbb76pr/wIaT/0eFNg8+bNcHV1hbm5OQICAtTOTDh48CA8PT1hbm6O/v3749tvv5V7fcqUKTAyMpLbQkND5dqUlZUhMjIS1tbWsLW1RUxMDKqqqrgnzwGnDm3jxo345z//iXfeeQdeXl74z3/+gxkzZmDFihX6yo+Q9kNP19D279+PhIQEJCYmIi8vDz4+PggJCcH9+/eVtj937hwiIiIQExODy5cvIywsDGFhYSgoKJBrFxoaipKSEtn2xRdfyL0eGRmJK1euIDMzE0ePHsWZM2dUrkGgK5zX5UxOTsbt27fx559/4saNG/jggw/A57OZDUgIaZE5h42DtWvXYtq0aYiOjkafPn2QkpICS0tL7Nq1S2n79evXIzQ0FHPnzoWXlxdWrFiBQYMGYdOmTXLtzMzMIBAIZNvTy9MVFhYiIyMDO3bsQEBAAF599VVs3LgR6enpuHdPN8/cKkNT9AgxFM0Ta9VtT35rKysr5banp0c1q6+vh0gkQnBw8F9vY2yM4OBg5OTkKE0jJydHrj0AhISEKLTPzs6Gg4MDPDw88Pbbb+OPP/6Qi2Fraws/Pz/ZvuDgYBgbG+PChQssvxDuqEMjxFBwvIbm4uIiNyUqKSlJIeTDhw8hkUhka3A2c3R0hFgsVpqGWCxW2z40NBSfffYZsrKysHr1apw+fRojR46ERCKRxXh2hXQTExPY2dmpfF9doIq1OoxliDnpMhblxJ5e66E9aVNcXCxX4LE1ZxM0T90CmqZveXt7o2fPnsjOzkZQUFCr5fGsVuvQnq5YCwBjEQ5raF9tczwmaB1D17EMMSddxqKc1KtEJaIxldtBHMsHWVtbq61Y27lzZ/B4PJSWlsrtLy0thUAgUHqMQCDg1B4A3N3d0blzZ1y/fh1BQUEQCAQKNx0aGxtRVlbWYhxtUcVaHcYyxJx0GYtyYq81Rmhs8Pl8+Pr6IisrC2FhYQAAqVSKrKwslSupC4VCZGVlYfbs2bJ9mZmZEAqFKt/n999/xx9//AEnJydZjPLycohEIvj6+gIATp48CalUioCAAPYfgCOqWKuHWIaYky5jUU7q6bViLcdpGwkJCYiKioKfnx/8/f2RnJyM6upqREdHAwAmT56Mrl27yq7BzZo1C0OGDMGaNWswatQopKen49KlS9i2bRsAoKqqCsuWLUN4eDgEAgFu3LiBefPmoVevXggJCQEAeHl5ITQ0FNOmTUNKSgoaGhoQFxeHiRMnwtnZmdsH4ICe2yfEUOhhhAYAEyZMwIMHD7BkyRKIxWIMGDAAGRkZsgv/d+7ckXsCKDAwEGlpaVi0aBHee+899O7dG0eOHEG/fv0AND0d9NNPP2Hv3r0oLy+Hs7MzRowYgRUrVshdx0tNTUVcXByCgoJgbGyM8PBwbNiwgVvyHFGHRoih0GMJ7ri4OJWnmNnZ2Qr7xo0bh3Hjxiltb2FhgePHj6t9Tzs7O6SlpXHKU1ucpm24uroqPO5gZGSE2NhYfeVHSPuhp4m17QmnEVpubq7sLiUAFBQU4PXXX1fZkxNCOKCKtVrj1KF16SI/P2fVqlXo2bMnhgwZotOkCGmX9HQNrT3R+Kupr6/Hvn37kJCQACMjI5XtqGItISxRh6Y1jQevR44cQXl5OaZMmdJiO6pYSwhLVLFWaxp3aDt37sTIkSPVzilZuHAhKioqZFtxcbGmb0lI20aLpGhNo6/m9u3bOHHiBA4dOqS2LVWsJYQlPU2sbU806tB2794NBwcH2fqchBAdoGtoWuP81UilUuzevRtRUVEwMaFvlhCd0ePE2vaCc4904sQJ3LlzB1OncqwkQAhpmRnYTZpt0HciLy7OHdqIESPAMIw+ciGkfaMRmtbonJEQQ0HX0LRGXw0hhoI6NK1RCW4dxjLEnHQZi3Jiz1AKPLY3RkwrXRB7ugT31atXUVFRobZ8MCEvqubKzGz+nTe3Lb8JsPmVqKwEbN1Av0NKUAluHcYyxJx0GYtyYk+TEZrEpGlj044oRyW49RDLEHPSZSzKST1NSnBTh6Y9+moIMRCNPCM08lRXrvmrHQOApk4pQ6XiCDEQEhMT1htXmzdvhqurK8zNzREQEICLFy+22P7gwYPw9PSEubk5+vfvj2+//Vb2WkNDA+bPn4/+/fujQ4cOcHZ2xuTJk3HvnvyoVlmF61WrVnHOnQvOHdrdu3cxadIk2Nvbw8LCAv3798elS5f0kRsh7UoDj496FlsDj88p7v79+5GQkIDExETk5eXBx8cHISEhCutmNjt37hwiIiIQExODy5cvIywsDGFhYSgoKAAA1NTUIC8vD4sXL0ZeXh4OHTqEoqIi/OMf/1CItXz5cpSUlMi2mTNncv9iOODU1T969AiDBw/GsGHD8N1336FLly64du0aOnXSYMkuQoicRvDQCBannBxPN9euXYtp06bJlq1LSUnBsWPHsGvXLixYsECh/fr16xEaGoq5c+cCAFasWIHMzExs2rQJKSkpsLGxQWZmptwxmzZtgr+/P+7cuYPu3bvL9ltZWel1YeFncRqhrV69Gi4uLti9ezf8/f3h5uaGESNGoGfPnvrKj5B2QwIeJDBhsTU9+1RZWSm3PV0Zull9fT1EIhGCg4Nl+4yNjREcHIycnByleeTk5Mi1B4CQkBCV7YGmKSRGRkawtbWV279q1SrY29tj4MCB+Pjjj9HY2Mj269AIpw7t66+/hp+fH8aNGwcHBwcMHDgQ27dvb/GYuro6hS+eEKKoqUNjtwGAi4uLXDXo5oWCn/bw4UNIJBLZGpzNHB0dIRaLleYhFos5ta+trcX8+fMREREhNy/u3XffRXp6Ok6dOoUZM2bgww8/xLx58zh9J1xxOuX87bffsHXrViQkJOC9995Dbm4u3n33XfD5fERFRSk9JikpCcuWLdNJsoS0ZU2dlfoxhuTJaWlxcbFcB/I8Cqk2NDRg/PjxYBgGW7dulXstISFB9mdvb2/w+XzMmDEDSUlJesuV0whNKpVi0KBB+PDDDzFw4EBMnz5dttS7KlSCmxB2uI7QrK2t5TZlnUTnzp3B4/FQWloqt7+0tFTltS2BQMCqfXNndvv2bWRmZqp9aiEgIACNjY24deuWuq9CY5w6NCcnJ/Tp00dun5eXF+7cuaPyGDMzM4UvnhCiSALekxsDLW/NHRobfD4fvr6+yMrKku2TSqXIysqCUChUeoxQKJRrDwCZmZly7Zs7s2vXruHEiROwt7dXm0t+fj6MjY3h4ODAOn+uOJ1yDh48GEVFRXL7rl69ih49eug0KULao6YL/mxOOaWc4iYkJCAqKgp+fn7w9/dHcnIyqqurZXc9J0+ejK5du8quwc2aNQtDhgzBmjVrMGrUKKSnp+PSpUvYtm0bgKbO7J///Cfy8vJw9OhRSCQS2fU1Ozs78Pl85OTk4MKFCxg2bBisrKyQk5OD+Ph4TJo0Sa+zIjh1aPHx8QgMDMSHH36I8ePH4+LFi9i2bZvsgxJCNCeBMavRl4Rj3AkTJuDBgwdYsmQJxGIxBgwYgIyMDNmF/zt37sDY+K+ONDAwEGlpaVi0aBHee+899O7dG0eOHEG/fv0ANM1F/frrrwEAAwYMkHuvU6dOYejQoTAzM0N6ejqWLl2Kuro6uLm5IT4+Xu66mj5w6tBefvllHD58GAsXLsTy5cvh5uaG5ORkREZG6is/QtqNOvBhyqJDq+PcpQFxcXGIi4tT+lp2drbCvnHjxmHcuHFK27u6uqqtWj1o0CCcP3+ec57a4vwMxd///nf8/e9/10cuhLRr0qfmmLXcTv3k2/aKHk4nxEBIWF7w5z4+az+oYq0OYxliTrqMRTmxp1E9NOrQtEYVawnRA00q1n5T8TI6WKsfY1RXNmK0TS79DilBFWt1GMsQc9JlLMqJPU1GaM3zzNS3o1poqlDFWj3EMsScdBmLclJPo4q1Tx4+V9+OqEI3BQgxEFKW19CkNEJTiTo0QgwE+5sC1KGpwulZzqVLlyqU1PX09NRXboS0K3Xgow5mLDZuFWvbE84jtL59++LEiRN/BdCgvjkhRBH7ERq3ZznbE869kYmJSauW1CWkvaAOTXucF0m5du0anJ2d4e7ujsjIyBZLBxFC2NNH+aD2htMILSAgAHv27IGHhwdKSkqwbNkyvPbaaygoKICVlZXSY+rq6uRqnVMJbkKUYz9tg24KqMKpQxs5cqTsz97e3ggICECPHj1w4MABxMTEKD2GSnATwg778kE0E00VrRYatrW1xUsvvYTr16+rbEMluAlhh2sJbqJIqw6tqqoKN27cgJOTk8o2VIKbEHaoQ9Mepw7tP//5D06fPo1bt27h3LlzePPNN8Hj8RAREaGv/AhpN+imgPY4dWi///47IiIi4OHhgfHjx8Pe3h7nz59Hly7al1shpL2rhxnrjavNmzfD1dUV5ubmCAgIwMWLF1tsf/DgQXh6esLc3Bz9+/fHt99+K/c6wzBYsmQJnJycYGFhgeDgYFy7dk2uTVlZGSIjI2FtbQ1bW1vExMSgqqqKc+5ccOrQ0tPTce/ePdTV1eH3339Heno6rZpOiI403xRQv3G7UrR//34kJCQgMTEReXl58PHxQUhICO7fv6+0/blz5xAREYGYmBhcvnwZYWFhCAsLQ0FBgazNRx99hA0bNiAlJQUXLlxAhw4dEBISgtraWlmbyMhIXLlyBZmZmTh69CjOnDmD6dOna/blsKTVNTRCiO6wOd1kW2LoaWvXrsW0adMQHR2NPn36ICUlBZaWlti1a5fS9uvXr0doaCjmzp0LLy8vrFixAoMGDcKmTZsANI3OkpOTsWjRIowZMwbe3t747LPPcO/ePRw5cgQAUFhYiIyMDOzYsQMBAQF49dVXsXHjRtmgSF+oQyPEQDTPQ2OzsVVfXw+RSITg4GDZPmNjYwQHByMnJ0fpMTk5OXLtASAkJETW/ubNmxCLxXJtbGxsEBAQIGuTk5MDW1tb+Pn5ydoEBwfD2NgYFy5cYJ0/V1SCW4exDDEnXcainNjTpMAj+/JBTW2enaRuZmamsHr6w4cPIZFIZEvWNXN0dMSvv/6qNL5YLFbavnntzeb/qmvz7ILCJiYmsLOzk7XRh1br0J4uwQ0AYxEOa2g/hWM8JmgdQ9exDDEnXcainNSrRCWiMZXTMeyf5Wxq4+LiIrc/MTERS5cu5fSebQ2V4NZhLEPMSZexKCf2NFskhe2TAk1XioqLi+XmdT47OgOAzp07g8fjobS0VG5/aWmpyiITAoGgxfbN/y0tLZWbg1paWipbeFggECjcdGhsbERZWZlei1tQCW49xDLEnHQZi3JST5MS3I3ggcdqTYGmNmwmqvP5fPj6+iIrKwthYWEAAKlUiqysLJULDwuFQmRlZWH27NmyfZmZmRAKhQAANzc3CAQCZGVlyTqwyspKXLhwAW+//bYsRnl5OUQiEXx9fQEAJ0+ehFQqRUBAgNrPqCkqZkaIgWD/cDq3X9uEhARERUXBz88P/v7+SE5ORnV1NaKjowEAkydPRteuXZGUlAQAmDVrFoYMGYI1a9Zg1KhRSE9Px6VLl7Bt2zYAgJGREWbPno0PPvgAvXv3hpubGxYvXgxnZ2dZp+nl5YXQ0FBMmzYNKSkpaGhoQFxcHCZOnAhnZ2dO+XNBHRohBoLrTQG2JkyYgAcPHmDJkiUQi8UYMGAAMjIyZBf179y5A2PjvyY8BAYGIi0tDYsWLcJ7772H3r1748iRI+jXr5+szbx581BdXY3p06ejvLwcr776KjIyMmBubi5rk5qairi4OAQFBcHY2Bjh4eHYsGEDp9y50qpDW7VqFRYuXIhZs2YhOTlZRykR0j7VgQ+GRXnteg0KPMbFxak8xczOzlbYN27cOIwbN05lPCMjIyxfvhzLly9X2cbOzg5paWmcc9WGxh1abm4uPv30U3h7e+syH0Laraa7nGxOOelZTlU0mlhbVVWFyMhIbN++HZ06cb/4SQhRRNU2tKdRhxYbG4tRo0YpzCZWpq6uDpWVlXIbIUQRdWja43zKmZ6ejry8POTm5rJqTxVrCWFHXzcF2hNOI7Ti4mLMmjULqampcnczWkIVawlhR18Pp7cnnEZoIpEI9+/fx6BBg2T7JBIJzpw5g02bNqGurg48nvyXrez5MkKIIgl4MKabAlrh1KEFBQXh559/ltsXHR0NT09PzJ8/X6EzI4Sw19ShsX+Wkyji1KFZWVnJTa4DgA4dOsDe3l5hPyGEG+rQtEdPChBiIOphBimL8tqNtIydSlp3aMpmGRNCuJOAByMaoWmFRmiEGAgJjFl2aFRoWhXq0AgxEE3TMdiXDyKKqAS3DmMZYk66jEU5sadZgUcTGOmhfFB7YsQwDNMab/R0Ce6rV6+ioqKCVlEnbVZzZWY2/86b2/pWfAuetfqOUFJZDZHNG/Q7pASV4NZhLEPMSZexKCf2NBuhsTvlpJsCqlEJbj3EMsScdBmLclJPkxLc1KFpj07GCTEQjTAGQ3c5tcLpm9m6dSu8vb1lizMIhUJ89913+sqNkHalHmasN6Icpw6tW7duWLVqFUQiES5duoThw4djzJgxuHLlir7yI6TdaC4fpG7TZ/mgsrIyREZGwtraGra2toiJiUFVVVWLx9TW1iI2Nhb29vbo2LEjwsPD5ZbB+/HHHxEREQEXFxdYWFjAy8sL69evl4uRnZ0NIyMjhY3rosScTjlHjx4t9/PKlSuxdetWnD9/Hn379uX0xoQQeY0sn+XUZ4cWGRmJkpISZGZmoqGhAdHR0Zg+fXqLawPEx8fj2LFjOHjwIGxsbBAXF4exY8fihx9+ANBUpcfBwQH79u2Di4sLzp07h+nTp4PH4ymsc1BUVCR35/bZ1dfV0fgamkQiwcGDB1FdXS1br48QojkJeGBY/Erqq0MrLCxERkYGcnNz4efnBwDYuHEj3njjDXzyySdKl5+rqKjAzp07kZaWhuHDhwMAdu/eDS8vL5w/fx6vvPIKpk6VX0He3d0dOTk5OHTokEKH5uDgAFtbW40/A+eriz///DM6duwIMzMz/Pvf/8bhw4fRp08fle2pBDch7DzvEtw5OTmwtbWVdWYAEBwcDGNjY1y4cEHpMSKRCA0NDXLl+D09PdG9e3fk5OSofK+KigrY2dkp7B8wYACcnJzw+uuvy0Z4XHAeoXl4eCA/Px8VFRX48ssvERUVhdOnT6vs1KgENyHsNI3Q2J9yPjs40LaYqlgsVjjFMzExgZ2dncprWWKxGHw+X2FU5ejoqPKYc+fOYf/+/Th27Jhsn5OTE1JSUuDn54e6ujrs2LEDQ4cOxYULF+QKyqrDeYTG5/PRq1cv+Pr6IikpCT4+PgoX+J5GJbgJYUci5bHeAMDFxQU2NjayrXnl82ctWLBA6QX3p7dff/21VT5jQUEBxowZg8TERIwYMUK238PDAzNmzICvry8CAwOxa9cuBAYGYt26dZziaz0PTSqVoq6uTuXrVIKbEHYkjTxIG9WP0JgnbYqLi+UuoKv6PZszZw6mTJnSYkx3d3cIBALcv39fbn9jYyPKysogEAiUHicQCFBfX4/y8nK5UVppaanCMb/88guCgoIwffp0LFq0qMV8AMDf3x9nz55V2+5pnDq0hQsXYuTIkejevTseP36MtLQ0ZGdn4/jx45zelBCiSNJoAqNG9b+SzJM2zfNB1enSpQu6dFH/wL1QKER5eTlEIhF8fX0BACdPnoRUKkVAQIDSY3x9fWFqaoqsrCyEh4cDaLpTeefOHbmbhVeuXMHw4cMRFRWFlStXqs0FAPLz8+Hk5MSqbTNOHdr9+/cxefJklJSUwMbGBt7e3jh+/Dhef/11Tm9KCFFUX2sKIz5fbTum1lQv7+/l5YXQ0FBMmzYNKSkpaGhoQFxcHCZOnCi7w3n37l0EBQXhs88+g7+/P2xsbBATE4OEhATY2dnB2toaM2fOhFAoxCuvvAKg6TRz+PDhCAkJQUJCguzaGo/Hk3W0ycnJcHNzQ9++fVFbW4sdO3bg5MmT+P777zl9Bk4d2s6dOzkFJ4Sw19jIg1ED+1NOfUhNTUVcXByCgoJgbGyM8PBwbNiwQfZ6Q0MDioqKUFNTI9u3bt06Wdu6ujqEhIRgy5Ytste//PJLPHjwAPv27cO+fftk+3v06IFbt24BAOrr6zFnzhzcvXsXlpaW8Pb2xokTJzBs2DBO+dOznIQYCEZiAkbC4leSTRsN2dnZtTiJ1tXVFc9WHDM3N5eVB1Nm6dKlWLp0aYvvO2/ePMybN49zvs+iDo0QQ9HIa9rYtCNKUcVaHcYyxJx0GYtyYk+TemjUoWmPKtYSogeaVKyFqALoyOJ3oqoS8GUXu72hirU6jGWIOekyFuXEnmYjtCcbm3ZEKapYq4dYhpiTLmNRTuppUrGWOjTt0U0BQgwFdWhaow6NEEPRCKCBZTuiFKeH05OSkvDyyy/DysoKDg4OCAsLQ1FRkb5yI6R9qeOwEaU4dWinT59GbGwszp8/L6toOWLECFRXa35xnxDyRCOHjSjF6ZQzIyND7uc9e/bAwcEBIpEIf/vb33SaGCHtDl1D05pW19AqKioAQGnlSUIIRxKw66wk+k7kxaVxhyaVSjF79mwMHjwY/fr1U9murq5Orl4aleAmRAUaoWlN4xVLY2NjUVBQgPT09BbbJSUlyVXVdHFx0fQtCWnb6Bqa1jTq0OLi4nD06FGcOnUK3bp1a7EtleAmhKUGDhtRitMpJ8MwmDlzJg4fPozs7Gy4ubmpPYZKcBPCkgTsro/RNTSVOHVosbGxSEtLw3//+19YWVnJKk/a2NjAwkLzyhmEENBNAR3g1KFt3boVADB06FC5/bt371a7CAMhRI1aAEYs2xGlOJ9yEkL0hO5yak3ju5yEEB1rPuVUt+nxlLOsrAyRkZGwtraGra0tYmJiUFVV1eIxtbW1iI2Nhb29PTp27Ijw8HCUlpbKtVG2FuizMySys7MxaNAgmJmZoVevXtizZw/n/KlDI8RQGMC0jcjISFy5cgWZmZk4evQozpw5g+nTp7d4THx8PL755hscPHgQp0+fxr179zB27FiFdrt370ZJSYlsCwsLk7128+ZNjBo1CsOGDUN+fj5mz56Nt956i/MSmVSCW4exDDEnXcainNjTqMBjAwA21bX1NG2jsLAQGRkZyM3NhZ+fHwBg48aNeOONN/DJJ5/IlrJ7WkVFBXbu3Im0tDQMHz4cQFPH5eXlhfPnz8uWsgMAW1tblQsWp6SkwM3NDWvWrAHQtKTe2bNnsW7dOoSEhLD/EEwr2bRpE+Pl5cW89NJLDACmoqKitd6akFZXUVHB+t95c1ssrmCwklG/LWYfm4udO3cytra2cvsaGhoYHo/HHDp0SOkxWVlZDADm0aNHcvu7d+/OrF27VvYzAMbZ2Zmxt7dnXn75ZWbnzp2MVCqVvf7aa68xs2bNkouxa9cuxtramtNnoBLcOoxliDnpMhblxF5rlOB+9jFCbed8isViODg4yO0zMTGBnZ2dbIqWsmP4fD5sbW3l9js6Osods3z5cgwfPhyWlpb4/vvv8c4776CqqgrvvvuuLI6jo6NCjMrKSvz555+sp4VRCW49xDLEnHQZi3JST6MS3BznoT37GGFiYqLS9S8XLFiA1atXtxiysLCQXY4aWrx4sezPAwcORHV1NT7++GNZh6YrVLGWEEPRCHbX0J50esXFxXKrPqkanc2ZM0ftPFF3d3cIBALcv39f/q0aG1FWVqby2pdAIEB9fT3Ky8vlRmmlpaUqjwGAgIAArFixAnV1dTAzM4NAIFC4M1paWgpra2tOk/apQyPEUNQCYDPV80nxGmtra1bL2HXp0gVduqi/0SEUClFeXg6RSARfX18AwMmTJyGVShEQEKD0GF9fX5iamiIrKwvh4eEAgKKiIty5cwdCoVDle+Xn56NTp06yTlgoFOLbb7+Va5OZmdliDGU4T9s4c+YMRo8eDWdnZxgZGeHIkSNcQxBClHnO89C8vLwQGhqKadOm4eLFi/jhhx8QFxeHiRMnyu5w3r17F56enrh48SKApsceY2JikJCQgFOnTkEkEiE6OhpCoVB2h/Obb77Bjh07UFBQgOvXr2Pr1q348MMPMXPmTNl7//vf/8Zvv/2GefPm4ddff8WWLVtw4MABxMfHc/oMnEdo1dXV8PHxwdSpU5XONSGEaKgR7IYYepyHlpqairi4OAQFBcHY2Bjh4eHYsGGD7PWGhgYUFRWhpqZGtm/dunWytnV1dQgJCcGWLVtkr5uammLz5s2Ij48HwzDo1asX1q5di2nTpsnauLm54dixY4iPj8f69evRrVs37Nixg9uUDWjQoY0cORIjR47kehghRJ0GsHuWU4/lg+zs7JCWlqbydVdXV4VHIM3NzbF582Zs3rxZ6TGhoaEIDQ1V+95Dhw7F5cuXuSX8DL1fQ6OKtYSwROWDtKb3R5+oYi0hLBnAo08vOr13aFSxlhCWDODh9Bed3k85qWItISyxvTZGJbhVonlohBgKCdidM9EITSXOHVpVVRWuX78u+/nmzZvIz8+HnZ0dunfvrtPkCGlXasGus6IRmkqcO7RLly5h2LBhsp8TEhIAAFFRURoVZCOEPMH2Yj/dFFCJc4c2dOhQKsVNiD5IwG4eGp1yqkTX0AgxFDRC0xpVrNVhLEPMSZexKCf2NK6Hpst27ZAR00rnj82PRkgkEly9ehUVFRWsKgUQ8iJqLmTK5t95c1sMrAB4LH4nJJXAZXax2xuqWKvDWIaYky5jUU7saTRCY3ttjK6hqUQVa/UQyxBz0mUsykk9jSrWNoJdPTTq0FSimwKEGArq0LRGHRohhqIRgJRFOzZt2imNHk7fvHkzXF1dYW5ujoCAAFn1SkKIFuo4bEQpzh3a/v37kZCQgMTEROTl5cHHxwchISEKiysQQjii8kFa49yhNZfOjY6ORp8+fZCSkgJLS0vs2rVLH/kR0n40cNiIUpw6tPr6eohEIgQHB/8VwNgYwcHByMnJ0XlyhLQrUvxVtbalTY/X0MrKyhAZGQlra2vY2toiJiYGVVVVLR5TW1uL2NhY2Nvbo2PHjggPD5dbkm7Pnj0wMjJSujWf2WVnZyt9XdUCx6pwuinw8OFDSCQSpSsc//rrr0qPoRLchLDUCHbPcupxKnxkZCRKSkqQmZmJhoYGREdHY/r06S2uMxAfH49jx47h4MGDsLGxQVxcHMaOHYsffvgBADBhwgSFNQWmTJmC2tpahZXai4qK5CYLP/u6Onq/y5mUlIRly5bp+20IefE95w6tsLAQGRkZyM3NhZ+fHwBg48aNeOONN/DJJ5/IlrJ7WkVFBXbu3Im0tDQMHz4cALB79254eXnh/PnzeOWVV2BhYSG3WPCDBw9w8uRJ7Ny5UyGeg4OD3ILFXHE65ezcuTN4PJ7SFY5VrZJMJbgJYek5X0PLycmBra2trDMDgODgYBgbG+PChQtKjxGJRGhoaJC7DOXp6Ynu3burvAz12WefwdLSEv/85z8VXhswYACcnJzw+uuvy0Z4XHDq0Ph8Pnx9fZGVlSXbJ5VKkZWVpXKFYzMzM9kKz2xXeiakXWJz/eyplaEqKyvltqcv7WhCLBYrnOKZmJjAzs5O5bUssVgMPp+vMKpydHRUeczOnTvxf//3f3KjNicnJ6SkpOCrr77CV199BRcXFwwdOhR5eXmcPgPnu5wJCQnYvn079u7di8LCQrz99tuorq5GdHQ011CEkGcxLLYnXFxc5FZUS0pKUhpywYIFKi/KN2+qroHrWk5ODgoLCxETEyO338PDAzNmzICvry8CAwOxa9cuBAYGYt26dZzic76GNmHCBDx48ABLliyBWCzGgAEDkJGRoXCjgBCiX8XFxXJnPKoWI5ozZw6mTJnSYix3d3cIBAKF+aSNjY0oKytTeUlJIBCgvr4e5eXlcqM0VZehduzYgQEDBsDX17fFfADA398fZ8+eVdvuaRrdFIiLi0NcXJwmhxJCdITtJZwuXbqgSxf1Nd6EQiHKy8shEolkHc7JkychlUoREBCg9BhfX1+YmpoiKysL4eHhAJruVN65c0fhMlRVVRUOHDigciT5rPz8fDg5ObFq24ye5STEYLC94q+fuwJeXl4IDQ3FtGnTkJKSgoaGBsTFxWHixImyO5x3795FUFAQPvvsM/j7+8PGxgYxMTFISEiAnZ0drK2tMXPmTAiFQrzyyity8ffv34/GxkZMmjRJ4b2Tk5Ph5uaGvn37ora2Fjt27MDJkyfx/fffc/oM1KERYjDYPtekv2efUlNTERcXh6CgIBgbGyM8PBwbNmyQvd7Q0ICioiLU1NTI9q1bt07Wtq6uDiEhIdiyZYtC7J07d2Ls2LFKp2XU19djzpw5uHv3LiwtLeHt7Y0TJ07ILcjERqt3aM0Fci0rNSiA9xRLdEAlKmGJDprVntJDLEPMSZexKCcOsZ78++ZWEPr5jtAAwM7OrsVJtK6urgqfydzcXFaRuiXnzp1T+dq8efMwb948bskq0eoluOvr63Hjxo3WeEtCnrvi4mJ069atxTayEty4CYDNtKZKAG5UgluJVuvQmkmlUrz00ksQiUQwMlI+LbqyshIuLi4Kd3Ge9fLLLyM3N1fl62zj6DKWuji6jGWIn88Qc9JlLLZxGIaBr68vrl69CmPjlmdH/dWhXQNg1WLbJo8B9KYOTYlWP+U0NjYGn89/8hfYMnV3cXg8Hqu/UDZ3g3QVi20cXcYyxM9niDnpMhabz8fn89V2ZvKe/ynni+653BSIjY01qDi6jGWIOekyFuWkz1jP/6bAi67VTznZ4LIEWGvEMdRYlFPrx9JlTs/GBC4C6MjiiCoA/nTKqYRBTtswMzNDYmKiypnPrR3HUGNRTq0fS5c5KaJTTm0Z5AiNkPbkrxHaabAfoQ2hEZoSBjlCI6R9agS70RddQ1OFOjRCDAbdFNAWdWiEGAy6hqYt6tAIMRg0QtOWRgsN65OuFjE+c+YMRo8eDWdnZxgZGeHIkSMaxUlKSsLLL78MKysrODg4ICwsDEVFRZzjbN26Fd7e3rIJmUKhEN99951GOT1r1apVMDIywuzZszkfu3TpUoVif56enhrlcffuXUyaNAn29vawsLBA//79cenSJc5xXF1dlRYh5DqvSyKRYPHixXBzc4OFhQV69uyJFStWcHy+8i+PHz/G7Nmz0aNHD1hYWCAwMFDtEwrcNF9DU7dRh6aKQXVoulzEuLq6Gj4+PmofmFXn9OnTiI2Nxfnz52Ur4YwYMQLV1dWc4nTr1g2rVq2CSCTCpUuXMHz4cIwZMwZXrlzRKr/c3Fx8+umn8Pb21jhG3759UVJSItu4FtUDgEePHmHw4MEwNTXFd999h19++QVr1qxBp07cH/LOzc2VyyczMxMAMG7cOE5xVq9eja1bt2LTpk0oLCzE6tWr8dFHH2Hjxo2ccwKAt956C5mZmfj888/x888/Y8SIEQgODsbdu3c1iqeIVhrWGmNA/P39mdjYWNnPEomEcXZ2ZpKSkrSKC4A5fPiwltk1uX//PgOAOX36tNaxOnXqxOzYsUPj4x8/fsz07t2byczMZIYMGcLMmjWLc4zExETGx8dH4xyazZ8/n3n11Ve1jqPMrFmzmJ49ezJSqZTTcaNGjWKmTp0qt2/s2LFMZGQk5xxqamoYHo/HHD16VG7/oEGDmPfff59zvKdVVFQ8Ka69iwHSWWy7GABMRUWFVu/bFhnMCO1FWcS4oqICQFOZFU1JJBKkp6ejurpa5eIybMTGxmLUqFFy35kmrl27BmdnZ7i7uyMyMhJ37tzhHOPrr7+Gn58fxo0bBwcHBwwcOBDbt2/XKi+g6d/Fvn37MHXqVJXFDFQJDAxEVlYWrl69CgD48ccfcfbsWYwcOZJzHo2NjZBIJDA3N5fbb2FhodGIVsW7cNiIMgZzU0CTRYxbm1QqxezZszF48GD069eP8/E///wzhEIhamtr0bFjRxw+fBh9+vTRKJf09HTk5eVpfQ0nICAAe/bsgYeHB0pKSrBs2TK89tprKCgogJUVm8oPTX777Tds3boVCQkJeO+995Cbm4t3330XfD4fUVFRGud35MgRlJeXq62Jr8yCBQtQWVkJT09P8Hg8SCQSrFy5EpGRkZxjWVlZQSgUYsWKFfDy8oKjoyO++OIL5OTkoFevXpzjKUfz0LRlMB3aiyA2NhYFBQUa/x/Zw8MD+fn5qKiowJdffomoqCicPn2ac6dWXFyMWbNmITMzU2HEwNXToxVvb28EBASgR48eOHDggMLKPC2RSqXw8/PDhx9+CAAYOHAgCgoKkJKSolWHtnPnTowcOVLpIrfqHDhwAKmpqUhLS0Pfvn2Rn5+P2bNnw9nZWaOcPv/8c0ydOhVdu3YFj8fDoEGDEBERAZFIxDmWcnSXU1sG06Fpsohxa4qLi8PRo0dx5swZtQX7VOHz+bL/m/v6+iI3Nxfr16/Hp59+yimOSCTC/fv3MWjQINk+iUSCM2fOYNOmTairqwOPx9MoR1tbW7z00ku4fv06p+OcnJwUOmYvLy989dVXGuUBALdv38aJEydw6NAhjY6fO3cuFixYgIkTJwIA+vfvj9u3byMpKUmjDq1nz544ffo0qqurUVlZCScnJ0yYMAHu7u4a5aeoAex+JWkemioGcw1Nk0WMWwPDMIiLi8Phw4dx8uRJuLm56Sy2VCrVaHHYoKAg/Pzzz8jPz5dtfn5+iIyMRH5+vsadGdC0Ms+NGzc4r7YzePBgheksV69eRY8ePTTOZffu3XBwcMCoUaM0Or6mpkahHhmPx4NUKtU4JwDo0KEDnJyc8OjRIxw/fhxjxozRKt5fnv81tLKyMkRGRsLa2hq2traIiYlBVVVVi8ds27YNQ4cOhbW1NYyMjFBeXq5R3J9++gmvvfYazM3N4eLigo8++oj7B3jedyWelp6ezpiZmTF79uxhfvnlF2b69OmMra0tIxaLOcd6/Pgxc/nyZeby5csMAGbt2rXM5cuXmdu3b3OK8/bbbzM2NjZMdnY2U1JSIttqamo4xVmwYAFz+vRp5ubNm8xPP/3ELFiwgDEyMmK+//57TnFU0fQu55w5c5js7Gzm5s2bzA8//MAEBwcznTt3Zu7fv88pzsWLFxkTExNm5cqVzLVr15jU1FTG0tKS2bdvH+ecGKbpDnf37t2Z+fPna3Q8wzBMVFQU07VrV+bo0aPMzZs3mUOHDjGdO3dm5s2bp1G8jIwM5rvvvmN+++035vvvv2d8fHyYgIAApr6+XuMcGebpu5wrGWANi22l3u5yhoaGMj4+Psz58+eZ//3vf0yvXr2YiIiIFo9Zt24dk5SUxCQlJTEAmEePHnGOW1FRwTg6OjKRkZFMQUEB88UXXzAWFhbMp59+yil/g+rQGIZhNm7cyHTv3p3h8/mMv78/c/78eY3inDp1Sum601FRUZziKIsBgNm9ezenOFOnTmV69OjB8Pl8pkuXLkxQUJDOOjOG0bxDmzBhAuPk5MTw+Xyma9euzIQJE5jr169rlMM333zD9OvXjzEzM2M8PT2Zbdu2aRSHYRjm+PHjDACmqKhI4xiVlZXMrFmzmO7duzPm5uaMu7s78/777zN1dXUaxdu/fz/j7u7O8Pl8RiAQMLGxsUx5ebnG+TX7q0NbxgCrWWzL9NKh/fLLLwwAJjc3V7bvu+++Y4yMjJi7d++qPb75d+7ZDo1N3C1btjCdOnWS+7uZP38+4+HhwekzUPkgQp6zv8oHLQLA5iZPLYAPdF4+aNeuXZgzZw4ePXok29fY2Ahzc3McPHgQb775ZovHZ2dnY9iwYXj06JHcUnVs4k6ePBmVlZVyT/ScOnUKw4cPR1lZGesJ2gZzU4AQUg1218earrtWVlbK7TUzM9Oq8KRYLIaDg4PcPhMTE9jZ2UEsFus1rlgsVrg+3TyFSywWU4dGyIuCz+dDIBBALF7H+piOHTvCxcVFbl9iYiKWLl2q0HbBggVYvXp1i/EKCwtZv7chow6NkOfM3NwcN2/eRH19PetjGIZReHJC1ehszpw5aicmu7u7QyAQKDw33djYiLKyMq2mTrGJKxAIlE7Zan6NLerQCDEA5ubmWk+SVqVLly7o0qWL2nZCoRDl5eUQiUTw9fUFAJw8eRJSqRQBAQEavz+buEKhEO+//z4aGhpgamoKAMjMzISHhwe3AgecbiEQQtq00NBQZuDAgcyFCxeYs2fPMr1795abXvH7778zHh4ezIULF2T7SkpKmMuXLzPbt29nADBnzpxhLl++zPzxxx+s45aXlzOOjo7Mv/71L6agoIBJT09nLC0tX/xpG4SQ5+ePP/5gIiIimI4dOzLW1tZMdHQ08/jxY9nrN2/eZAAwp06dku1LTExUO7VJXVyGYZgff/yRefXVVxkzMzOma9euzKpVqzjnT9M2CCFthsE8+kQIIdqiDo0Q0mZQh0YIaTOoQyOEtBnUoRFC2gzq0AghbQZ1aISQNoM6NEJIm0EdGiGkzaAOjRDSZlCHRghpM6hDI4S0Gf8Pdh+xsgYSgiEAAAAASUVORK5CYII=\n"
                },
                "metadata": {}
              }
            ]
          }
        },
        "b7315a03dcee4ac5b23a2a16241c4148": {
          "model_module": "@jupyter-widgets/base",
          "model_name": "LayoutModel",
          "model_module_version": "1.2.0",
          "state": {
            "_model_module": "@jupyter-widgets/base",
            "_model_module_version": "1.2.0",
            "_model_name": "LayoutModel",
            "_view_count": null,
            "_view_module": "@jupyter-widgets/base",
            "_view_module_version": "1.2.0",
            "_view_name": "LayoutView",
            "align_content": null,
            "align_items": null,
            "align_self": null,
            "border": null,
            "bottom": null,
            "display": null,
            "flex": null,
            "flex_flow": null,
            "grid_area": null,
            "grid_auto_columns": null,
            "grid_auto_flow": null,
            "grid_auto_rows": null,
            "grid_column": null,
            "grid_gap": null,
            "grid_row": null,
            "grid_template_areas": null,
            "grid_template_columns": null,
            "grid_template_rows": null,
            "height": null,
            "justify_content": null,
            "justify_items": null,
            "left": null,
            "margin": null,
            "max_height": null,
            "max_width": null,
            "min_height": null,
            "min_width": null,
            "object_fit": null,
            "object_position": null,
            "order": null,
            "overflow": null,
            "overflow_x": null,
            "overflow_y": null,
            "padding": null,
            "right": null,
            "top": null,
            "visibility": null,
            "width": null
          }
        },
        "c3a5e4a1b8864d46a7f80624ea40b8c6": {
          "model_module": "@jupyter-widgets/base",
          "model_name": "LayoutModel",
          "model_module_version": "1.2.0",
          "state": {
            "_model_module": "@jupyter-widgets/base",
            "_model_module_version": "1.2.0",
            "_model_name": "LayoutModel",
            "_view_count": null,
            "_view_module": "@jupyter-widgets/base",
            "_view_module_version": "1.2.0",
            "_view_name": "LayoutView",
            "align_content": null,
            "align_items": null,
            "align_self": null,
            "border": null,
            "bottom": null,
            "display": null,
            "flex": null,
            "flex_flow": null,
            "grid_area": null,
            "grid_auto_columns": null,
            "grid_auto_flow": null,
            "grid_auto_rows": null,
            "grid_column": null,
            "grid_gap": null,
            "grid_row": null,
            "grid_template_areas": null,
            "grid_template_columns": null,
            "grid_template_rows": null,
            "height": null,
            "justify_content": null,
            "justify_items": null,
            "left": null,
            "margin": null,
            "max_height": null,
            "max_width": null,
            "min_height": null,
            "min_width": null,
            "object_fit": null,
            "object_position": null,
            "order": null,
            "overflow": null,
            "overflow_x": null,
            "overflow_y": null,
            "padding": null,
            "right": null,
            "top": null,
            "visibility": null,
            "width": null
          }
        },
        "d828b5e82d604a3da0b6633d6285af13": {
          "model_module": "@jupyter-widgets/controls",
          "model_name": "ToggleButtonsStyleModel",
          "model_module_version": "1.5.0",
          "state": {
            "_model_module": "@jupyter-widgets/controls",
            "_model_module_version": "1.5.0",
            "_model_name": "ToggleButtonsStyleModel",
            "_view_count": null,
            "_view_module": "@jupyter-widgets/base",
            "_view_module_version": "1.2.0",
            "_view_name": "StyleView",
            "button_width": "",
            "description_width": "",
            "font_weight": ""
          }
        },
        "4a1007970f304edea34bcb055bd0c76a": {
          "model_module": "@jupyter-widgets/base",
          "model_name": "LayoutModel",
          "model_module_version": "1.2.0",
          "state": {
            "_model_module": "@jupyter-widgets/base",
            "_model_module_version": "1.2.0",
            "_model_name": "LayoutModel",
            "_view_count": null,
            "_view_module": "@jupyter-widgets/base",
            "_view_module_version": "1.2.0",
            "_view_name": "LayoutView",
            "align_content": null,
            "align_items": null,
            "align_self": null,
            "border": null,
            "bottom": null,
            "display": null,
            "flex": null,
            "flex_flow": null,
            "grid_area": null,
            "grid_auto_columns": null,
            "grid_auto_flow": null,
            "grid_auto_rows": null,
            "grid_column": null,
            "grid_gap": null,
            "grid_row": null,
            "grid_template_areas": null,
            "grid_template_columns": null,
            "grid_template_rows": null,
            "height": null,
            "justify_content": null,
            "justify_items": null,
            "left": null,
            "margin": null,
            "max_height": null,
            "max_width": null,
            "min_height": null,
            "min_width": null,
            "object_fit": null,
            "object_position": null,
            "order": null,
            "overflow": null,
            "overflow_x": null,
            "overflow_y": null,
            "padding": null,
            "right": null,
            "top": null,
            "visibility": null,
            "width": null
          }
        },
        "4a277f163770441790497f9571d12029": {
          "model_module": "@jupyter-widgets/controls",
          "model_name": "SliderStyleModel",
          "model_module_version": "1.5.0",
          "state": {
            "_model_module": "@jupyter-widgets/controls",
            "_model_module_version": "1.5.0",
            "_model_name": "SliderStyleModel",
            "_view_count": null,
            "_view_module": "@jupyter-widgets/base",
            "_view_module_version": "1.2.0",
            "_view_name": "StyleView",
            "description_width": "",
            "handle_color": null
          }
        },
        "d6d86eab896341b68be61eb790b81e6d": {
          "model_module": "@jupyter-widgets/base",
          "model_name": "LayoutModel",
          "model_module_version": "1.2.0",
          "state": {
            "_model_module": "@jupyter-widgets/base",
            "_model_module_version": "1.2.0",
            "_model_name": "LayoutModel",
            "_view_count": null,
            "_view_module": "@jupyter-widgets/base",
            "_view_module_version": "1.2.0",
            "_view_name": "LayoutView",
            "align_content": null,
            "align_items": null,
            "align_self": null,
            "border": null,
            "bottom": null,
            "display": null,
            "flex": null,
            "flex_flow": null,
            "grid_area": null,
            "grid_auto_columns": null,
            "grid_auto_flow": null,
            "grid_auto_rows": null,
            "grid_column": null,
            "grid_gap": null,
            "grid_row": null,
            "grid_template_areas": null,
            "grid_template_columns": null,
            "grid_template_rows": null,
            "height": null,
            "justify_content": null,
            "justify_items": null,
            "left": null,
            "margin": null,
            "max_height": null,
            "max_width": null,
            "min_height": null,
            "min_width": null,
            "object_fit": null,
            "object_position": null,
            "order": null,
            "overflow": null,
            "overflow_x": null,
            "overflow_y": null,
            "padding": null,
            "right": null,
            "top": null,
            "visibility": null,
            "width": null
          }
        },
        "211b45da2078440eab32fbb69772783e": {
          "model_module": "@jupyter-widgets/controls",
          "model_name": "VBoxModel",
          "model_module_version": "1.5.0",
          "state": {
            "_dom_classes": [
              "widget-interact"
            ],
            "_model_module": "@jupyter-widgets/controls",
            "_model_module_version": "1.5.0",
            "_model_name": "VBoxModel",
            "_view_count": null,
            "_view_module": "@jupyter-widgets/controls",
            "_view_module_version": "1.5.0",
            "_view_name": "VBoxView",
            "box_style": "",
            "children": [
              "IPY_MODEL_c6b96ce1c66a4738a7053debe4452704",
              "IPY_MODEL_cfae66208af54491b40e4bb6d24f3296"
            ],
            "layout": "IPY_MODEL_93fab3bce9014251afd9e48388e0d40b"
          }
        },
        "c6b96ce1c66a4738a7053debe4452704": {
          "model_module": "@jupyter-widgets/controls",
          "model_name": "IntSliderModel",
          "model_module_version": "1.5.0",
          "state": {
            "_dom_classes": [],
            "_model_module": "@jupyter-widgets/controls",
            "_model_module_version": "1.5.0",
            "_model_name": "IntSliderModel",
            "_view_count": null,
            "_view_module": "@jupyter-widgets/controls",
            "_view_module_version": "1.5.0",
            "_view_name": "IntSliderView",
            "continuous_update": true,
            "description": "numIter",
            "description_tooltip": null,
            "disabled": false,
            "layout": "IPY_MODEL_763ea8eb58724772807837a03a920f50",
            "max": 20,
            "min": 0,
            "orientation": "horizontal",
            "readout": true,
            "readout_format": "d",
            "step": 1,
            "style": "IPY_MODEL_338fd0d90d1d486e9c823e9d39e36934",
            "value": 0
          }
        },
        "cfae66208af54491b40e4bb6d24f3296": {
          "model_module": "@jupyter-widgets/output",
          "model_name": "OutputModel",
          "model_module_version": "1.0.0",
          "state": {
            "_dom_classes": [],
            "_model_module": "@jupyter-widgets/output",
            "_model_module_version": "1.0.0",
            "_model_name": "OutputModel",
            "_view_count": null,
            "_view_module": "@jupyter-widgets/output",
            "_view_module_version": "1.0.0",
            "_view_name": "OutputView",
            "layout": "IPY_MODEL_492aa89511e046dbb4b0f0c57e1e1e22",
            "msg_id": "",
            "outputs": [
              {
                "output_type": "stream",
                "name": "stdout",
                "text": [
                  "time= 7.82\n"
                ]
              },
              {
                "output_type": "display_data",
                "data": {
                  "text/plain": "<Figure size 300x300 with 2 Axes>",
                  "image/png": "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\n"
                },
                "metadata": {}
              }
            ]
          }
        },
        "93fab3bce9014251afd9e48388e0d40b": {
          "model_module": "@jupyter-widgets/base",
          "model_name": "LayoutModel",
          "model_module_version": "1.2.0",
          "state": {
            "_model_module": "@jupyter-widgets/base",
            "_model_module_version": "1.2.0",
            "_model_name": "LayoutModel",
            "_view_count": null,
            "_view_module": "@jupyter-widgets/base",
            "_view_module_version": "1.2.0",
            "_view_name": "LayoutView",
            "align_content": null,
            "align_items": null,
            "align_self": null,
            "border": null,
            "bottom": null,
            "display": null,
            "flex": null,
            "flex_flow": null,
            "grid_area": null,
            "grid_auto_columns": null,
            "grid_auto_flow": null,
            "grid_auto_rows": null,
            "grid_column": null,
            "grid_gap": null,
            "grid_row": null,
            "grid_template_areas": null,
            "grid_template_columns": null,
            "grid_template_rows": null,
            "height": null,
            "justify_content": null,
            "justify_items": null,
            "left": null,
            "margin": null,
            "max_height": null,
            "max_width": null,
            "min_height": null,
            "min_width": null,
            "object_fit": null,
            "object_position": null,
            "order": null,
            "overflow": null,
            "overflow_x": null,
            "overflow_y": null,
            "padding": null,
            "right": null,
            "top": null,
            "visibility": null,
            "width": null
          }
        },
        "763ea8eb58724772807837a03a920f50": {
          "model_module": "@jupyter-widgets/base",
          "model_name": "LayoutModel",
          "model_module_version": "1.2.0",
          "state": {
            "_model_module": "@jupyter-widgets/base",
            "_model_module_version": "1.2.0",
            "_model_name": "LayoutModel",
            "_view_count": null,
            "_view_module": "@jupyter-widgets/base",
            "_view_module_version": "1.2.0",
            "_view_name": "LayoutView",
            "align_content": null,
            "align_items": null,
            "align_self": null,
            "border": null,
            "bottom": null,
            "display": null,
            "flex": null,
            "flex_flow": null,
            "grid_area": null,
            "grid_auto_columns": null,
            "grid_auto_flow": null,
            "grid_auto_rows": null,
            "grid_column": null,
            "grid_gap": null,
            "grid_row": null,
            "grid_template_areas": null,
            "grid_template_columns": null,
            "grid_template_rows": null,
            "height": null,
            "justify_content": null,
            "justify_items": null,
            "left": null,
            "margin": null,
            "max_height": null,
            "max_width": null,
            "min_height": null,
            "min_width": null,
            "object_fit": null,
            "object_position": null,
            "order": null,
            "overflow": null,
            "overflow_x": null,
            "overflow_y": null,
            "padding": null,
            "right": null,
            "top": null,
            "visibility": null,
            "width": null
          }
        },
        "338fd0d90d1d486e9c823e9d39e36934": {
          "model_module": "@jupyter-widgets/controls",
          "model_name": "SliderStyleModel",
          "model_module_version": "1.5.0",
          "state": {
            "_model_module": "@jupyter-widgets/controls",
            "_model_module_version": "1.5.0",
            "_model_name": "SliderStyleModel",
            "_view_count": null,
            "_view_module": "@jupyter-widgets/base",
            "_view_module_version": "1.2.0",
            "_view_name": "StyleView",
            "description_width": "",
            "handle_color": null
          }
        },
        "492aa89511e046dbb4b0f0c57e1e1e22": {
          "model_module": "@jupyter-widgets/base",
          "model_name": "LayoutModel",
          "model_module_version": "1.2.0",
          "state": {
            "_model_module": "@jupyter-widgets/base",
            "_model_module_version": "1.2.0",
            "_model_name": "LayoutModel",
            "_view_count": null,
            "_view_module": "@jupyter-widgets/base",
            "_view_module_version": "1.2.0",
            "_view_name": "LayoutView",
            "align_content": null,
            "align_items": null,
            "align_self": null,
            "border": null,
            "bottom": null,
            "display": null,
            "flex": null,
            "flex_flow": null,
            "grid_area": null,
            "grid_auto_columns": null,
            "grid_auto_flow": null,
            "grid_auto_rows": null,
            "grid_column": null,
            "grid_gap": null,
            "grid_row": null,
            "grid_template_areas": null,
            "grid_template_columns": null,
            "grid_template_rows": null,
            "height": null,
            "justify_content": null,
            "justify_items": null,
            "left": null,
            "margin": null,
            "max_height": null,
            "max_width": null,
            "min_height": null,
            "min_width": null,
            "object_fit": null,
            "object_position": null,
            "order": null,
            "overflow": null,
            "overflow_x": null,
            "overflow_y": null,
            "padding": null,
            "right": null,
            "top": null,
            "visibility": null,
            "width": null
          }
        },
        "306e1fdfcc1c4c72806f940182a07288": {
          "model_module": "@jupyter-widgets/controls",
          "model_name": "VBoxModel",
          "model_module_version": "1.5.0",
          "state": {
            "_dom_classes": [
              "widget-interact"
            ],
            "_model_module": "@jupyter-widgets/controls",
            "_model_module_version": "1.5.0",
            "_model_name": "VBoxModel",
            "_view_count": null,
            "_view_module": "@jupyter-widgets/controls",
            "_view_module_version": "1.5.0",
            "_view_name": "VBoxView",
            "box_style": "",
            "children": [
              "IPY_MODEL_e6142f0cae4c4d3b8dc94f591ae23986",
              "IPY_MODEL_3043a77eb243445aad58adeb55a362c1"
            ],
            "layout": "IPY_MODEL_91cff5277b5143d09e742060f75357f0"
          }
        },
        "e6142f0cae4c4d3b8dc94f591ae23986": {
          "model_module": "@jupyter-widgets/controls",
          "model_name": "IntSliderModel",
          "model_module_version": "1.5.0",
          "state": {
            "_dom_classes": [],
            "_model_module": "@jupyter-widgets/controls",
            "_model_module_version": "1.5.0",
            "_model_name": "IntSliderModel",
            "_view_count": null,
            "_view_module": "@jupyter-widgets/controls",
            "_view_module_version": "1.5.0",
            "_view_name": "IntSliderView",
            "continuous_update": true,
            "description": "numIter",
            "description_tooltip": null,
            "disabled": false,
            "layout": "IPY_MODEL_e59d4151a60e4d779510b609793c189e",
            "max": 20,
            "min": 0,
            "orientation": "horizontal",
            "readout": true,
            "readout_format": "d",
            "step": 1,
            "style": "IPY_MODEL_209ced0b525443c7a5848f78e1fd8d30",
            "value": 20
          }
        },
        "3043a77eb243445aad58adeb55a362c1": {
          "model_module": "@jupyter-widgets/output",
          "model_name": "OutputModel",
          "model_module_version": "1.0.0",
          "state": {
            "_dom_classes": [],
            "_model_module": "@jupyter-widgets/output",
            "_model_module_version": "1.0.0",
            "_model_name": "OutputModel",
            "_view_count": null,
            "_view_module": "@jupyter-widgets/output",
            "_view_module_version": "1.0.0",
            "_view_name": "OutputView",
            "layout": "IPY_MODEL_4e48181058a546d5aa5c8bf33d1214fb",
            "msg_id": "",
            "outputs": [
              {
                "output_type": "stream",
                "name": "stdout",
                "text": [
                  "time= 234.41\n"
                ]
              },
              {
                "output_type": "display_data",
                "data": {
                  "text/plain": "<Figure size 300x300 with 2 Axes>",
                  "image/png": "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\n"
                },
                "metadata": {}
              }
            ]
          }
        },
        "91cff5277b5143d09e742060f75357f0": {
          "model_module": "@jupyter-widgets/base",
          "model_name": "LayoutModel",
          "model_module_version": "1.2.0",
          "state": {
            "_model_module": "@jupyter-widgets/base",
            "_model_module_version": "1.2.0",
            "_model_name": "LayoutModel",
            "_view_count": null,
            "_view_module": "@jupyter-widgets/base",
            "_view_module_version": "1.2.0",
            "_view_name": "LayoutView",
            "align_content": null,
            "align_items": null,
            "align_self": null,
            "border": null,
            "bottom": null,
            "display": null,
            "flex": null,
            "flex_flow": null,
            "grid_area": null,
            "grid_auto_columns": null,
            "grid_auto_flow": null,
            "grid_auto_rows": null,
            "grid_column": null,
            "grid_gap": null,
            "grid_row": null,
            "grid_template_areas": null,
            "grid_template_columns": null,
            "grid_template_rows": null,
            "height": null,
            "justify_content": null,
            "justify_items": null,
            "left": null,
            "margin": null,
            "max_height": null,
            "max_width": null,
            "min_height": null,
            "min_width": null,
            "object_fit": null,
            "object_position": null,
            "order": null,
            "overflow": null,
            "overflow_x": null,
            "overflow_y": null,
            "padding": null,
            "right": null,
            "top": null,
            "visibility": null,
            "width": null
          }
        },
        "e59d4151a60e4d779510b609793c189e": {
          "model_module": "@jupyter-widgets/base",
          "model_name": "LayoutModel",
          "model_module_version": "1.2.0",
          "state": {
            "_model_module": "@jupyter-widgets/base",
            "_model_module_version": "1.2.0",
            "_model_name": "LayoutModel",
            "_view_count": null,
            "_view_module": "@jupyter-widgets/base",
            "_view_module_version": "1.2.0",
            "_view_name": "LayoutView",
            "align_content": null,
            "align_items": null,
            "align_self": null,
            "border": null,
            "bottom": null,
            "display": null,
            "flex": null,
            "flex_flow": null,
            "grid_area": null,
            "grid_auto_columns": null,
            "grid_auto_flow": null,
            "grid_auto_rows": null,
            "grid_column": null,
            "grid_gap": null,
            "grid_row": null,
            "grid_template_areas": null,
            "grid_template_columns": null,
            "grid_template_rows": null,
            "height": null,
            "justify_content": null,
            "justify_items": null,
            "left": null,
            "margin": null,
            "max_height": null,
            "max_width": null,
            "min_height": null,
            "min_width": null,
            "object_fit": null,
            "object_position": null,
            "order": null,
            "overflow": null,
            "overflow_x": null,
            "overflow_y": null,
            "padding": null,
            "right": null,
            "top": null,
            "visibility": null,
            "width": null
          }
        },
        "209ced0b525443c7a5848f78e1fd8d30": {
          "model_module": "@jupyter-widgets/controls",
          "model_name": "SliderStyleModel",
          "model_module_version": "1.5.0",
          "state": {
            "_model_module": "@jupyter-widgets/controls",
            "_model_module_version": "1.5.0",
            "_model_name": "SliderStyleModel",
            "_view_count": null,
            "_view_module": "@jupyter-widgets/base",
            "_view_module_version": "1.2.0",
            "_view_name": "StyleView",
            "description_width": "",
            "handle_color": null
          }
        },
        "4e48181058a546d5aa5c8bf33d1214fb": {
          "model_module": "@jupyter-widgets/base",
          "model_name": "LayoutModel",
          "model_module_version": "1.2.0",
          "state": {
            "_model_module": "@jupyter-widgets/base",
            "_model_module_version": "1.2.0",
            "_model_name": "LayoutModel",
            "_view_count": null,
            "_view_module": "@jupyter-widgets/base",
            "_view_module_version": "1.2.0",
            "_view_name": "LayoutView",
            "align_content": null,
            "align_items": null,
            "align_self": null,
            "border": null,
            "bottom": null,
            "display": null,
            "flex": null,
            "flex_flow": null,
            "grid_area": null,
            "grid_auto_columns": null,
            "grid_auto_flow": null,
            "grid_auto_rows": null,
            "grid_column": null,
            "grid_gap": null,
            "grid_row": null,
            "grid_template_areas": null,
            "grid_template_columns": null,
            "grid_template_rows": null,
            "height": null,
            "justify_content": null,
            "justify_items": null,
            "left": null,
            "margin": null,
            "max_height": null,
            "max_width": null,
            "min_height": null,
            "min_width": null,
            "object_fit": null,
            "object_position": null,
            "order": null,
            "overflow": null,
            "overflow_x": null,
            "overflow_y": null,
            "padding": null,
            "right": null,
            "top": null,
            "visibility": null,
            "width": null
          }
        }
      }
    }
  },
  "nbformat": 4,
  "nbformat_minor": 0
}